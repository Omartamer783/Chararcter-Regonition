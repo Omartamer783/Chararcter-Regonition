{
 "cells": [
  {
   "cell_type": "markdown",
   "id": "39804614",
   "metadata": {},
   "source": [
    "# imports"
   ]
  },
  {
   "cell_type": "code",
   "execution_count": 1,
   "id": "586a473a",
   "metadata": {},
   "outputs": [
    {
     "name": "stdout",
     "output_type": "stream",
     "text": [
      "WARNING:tensorflow:From C:\\Users\\LAPTOP\\anaconda3\\envs\\scientificProject\\lib\\site-packages\\keras\\src\\losses.py:2976: The name tf.losses.sparse_softmax_cross_entropy is deprecated. Please use tf.compat.v1.losses.sparse_softmax_cross_entropy instead.\n",
      "\n"
     ]
    }
   ],
   "source": [
    "import numpy as np \n",
    "import matplotlib.pyplot as plt\n",
    "import pandas as pd\n",
    "\n",
    "import tensorflow as tf\n",
    "from tensorflow.keras.layers import Dense\n",
    "from tensorflow.keras.models import Sequential\n",
    "from tensorflow.keras.optimizers import Adam\n",
    "from tensorflow.keras.losses import SparseCategoricalCrossentropy\n",
    "\n",
    "from sklearn.model_selection import train_test_split\n",
    "from skimage import feature,color,io,exposure\n",
    "from sklearn.model_selection import cross_val_score, KFold\n",
    "from tensorflow.keras.models import clone_model\n",
    "from tensorflow.keras.models import load_model\n",
    "from sklearn.metrics import accuracy_score, precision_score, recall_score, f1_score\n",
    "\n",
    "\n",
    "\n",
    "\n",
    "\n",
    "%matplotlib inline"
   ]
  },
  {
   "cell_type": "markdown",
   "id": "46fe4bd2",
   "metadata": {},
   "source": [
    "# Load data"
   ]
  },
  {
   "cell_type": "code",
   "execution_count": 2,
   "id": "de100d78",
   "metadata": {},
   "outputs": [],
   "source": [
    "letter_images=pd.read_csv(\"D:\\AI dataset\\emnist-letters-train.csv\")"
   ]
  },
  {
   "cell_type": "code",
   "execution_count": 3,
   "id": "f6c2d724",
   "metadata": {},
   "outputs": [
    {
     "data": {
      "text/plain": [
       "(0, 25)"
      ]
     },
     "execution_count": 3,
     "metadata": {},
     "output_type": "execute_result"
    }
   ],
   "source": [
    "letter_images.iloc[:,0]=letter_images.iloc[:,0]-1\n",
    "letter_images.iloc[:,0].min(),letter_images.iloc[:,0].max()"
   ]
  },
  {
   "cell_type": "code",
   "execution_count": 4,
   "id": "9af7c414",
   "metadata": {},
   "outputs": [],
   "source": [
    "X=letter_images.iloc[:,1:].values\n",
    "y=letter_images.iloc[:,0].values"
   ]
  },
  {
   "cell_type": "code",
   "execution_count": 5,
   "id": "5ca672c5",
   "metadata": {},
   "outputs": [
    {
     "data": {
      "text/plain": [
       "((88799, 784), (88799,))"
      ]
     },
     "execution_count": 5,
     "metadata": {},
     "output_type": "execute_result"
    }
   ],
   "source": [
    "X.shape,y.shape"
   ]
  },
  {
   "cell_type": "markdown",
   "id": "67d702b9",
   "metadata": {},
   "source": [
    "# split data"
   ]
  },
  {
   "cell_type": "code",
   "execution_count": 6,
   "id": "d2e21e76",
   "metadata": {},
   "outputs": [],
   "source": [
    "X_train,X_test,y_train,y_test=train_test_split(X,y,test_size=0.20,random_state=42,stratify=y,shuffle=True)"
   ]
  },
  {
   "cell_type": "code",
   "execution_count": 7,
   "id": "fd22e079",
   "metadata": {},
   "outputs": [
    {
     "data": {
      "text/plain": [
       "((71039, 784), (71039,))"
      ]
     },
     "execution_count": 7,
     "metadata": {},
     "output_type": "execute_result"
    }
   ],
   "source": [
    "X_train.shape,y_train.shape"
   ]
  },
  {
   "cell_type": "markdown",
   "id": "3c8bf680",
   "metadata": {},
   "source": [
    "# extract features"
   ]
  },
  {
   "cell_type": "code",
   "execution_count": 8,
   "id": "328858c9",
   "metadata": {},
   "outputs": [],
   "source": [
    "train_feature=[]\n",
    "test_feature=[]\n",
    "\n",
    "for train_img in X_train:\n",
    "    train_img=train_img.reshape((28,28))\n",
    "    \n",
    "    hog_train_img,_=feature.hog(train_img,visualize=True)\n",
    "    train_feature.append(hog_train_img)\n",
    "    \n",
    "for test_img in X_test:\n",
    "    test_img=test_img.reshape((28,28))\n",
    "    \n",
    "    hog_test_img,_=feature.hog(test_img,visualize=True)\n",
    "    test_feature.append(hog_test_img)\n",
    "    "
   ]
  },
  {
   "cell_type": "markdown",
   "id": "1060af36",
   "metadata": {},
   "source": [
    "# example"
   ]
  },
  {
   "cell_type": "code",
   "execution_count": 9,
   "id": "eef39e4f",
   "metadata": {},
   "outputs": [
    {
     "name": "stdout",
     "output_type": "stream",
     "text": [
      "(81,) (28, 28)\n"
     ]
    },
    {
     "data": {
      "text/plain": [
       "Text(0.5, 1.0, 'hog image')"
      ]
     },
     "execution_count": 9,
     "metadata": {},
     "output_type": "execute_result"
    },
    {
     "data": {
      "image/png": "[encoded data removed]",
      "text/plain": [
       "<Figure size 640x480 with 2 Axes>"
      ]
     },
     "metadata": {},
     "output_type": "display_data"
    }
   ],
   "source": [
    "gray_image=X_train[0].reshape((28,28))\n",
    "\n",
    "hog_feature,hog_img= feature.hog(gray_image,visualize=True)\n",
    "\n",
    "plt.subplot(1,2,1)\n",
    "plt.axis(\"off\")\n",
    "plt.imshow(gray_image,cmap=\"gray\")\n",
    "plt.title(\"original image\")\n",
    "\n",
    "plt.subplot(1,2,2)\n",
    "plt.axis(\"off\")\n",
    "plt.imshow(hog_img,cmap=\"gray\")\n",
    "plt.title(\"hog image\")"
   ]
  },
  {
   "cell_type": "code",
   "execution_count": 12,
   "id": "c49ebc2d",
   "metadata": {},
   "outputs": [],
   "source": [
    "X_train_img=np.array(train_feature)\n",
    "X_test_img=np.array(test_feature)"
   ]
  },
  {
   "cell_type": "code",
   "execution_count": 13,
   "id": "d5647c61",
   "metadata": {},
   "outputs": [
    {
     "data": {
      "text/plain": [
       "((71039, 81), (17760, 81), (71039,), (17760,))"
      ]
     },
     "execution_count": 13,
     "metadata": {},
     "output_type": "execute_result"
    }
   ],
   "source": [
    "X_train_img.shape,X_test_img.shape,y_train.shape,y_test.shape"
   ]
  },
  {
   "cell_type": "markdown",
   "id": "feade432",
   "metadata": {},
   "source": [
    "# Model"
   ]
  },
  {
   "cell_type": "code",
   "execution_count": 14,
   "id": "fca592c6",
   "metadata": {},
   "outputs": [
    {
     "name": "stdout",
     "output_type": "stream",
     "text": [
      "WARNING:tensorflow:From C:\\Users\\LAPTOP\\anaconda3\\envs\\scientificProject\\lib\\site-packages\\keras\\src\\backend.py:1398: The name tf.executing_eagerly_outside_functions is deprecated. Please use tf.compat.v1.executing_eagerly_outside_functions instead.\n",
      "\n"
     ]
    }
   ],
   "source": [
    "model= Sequential([\n",
    "    tf.keras.Input(shape=(81,)),\n",
    "    Dense(units=128,activation=\"relu\",name=\"layer1\"),\n",
    "    Dense(units=128,activation=\"relu\",name=\"layer2\"),\n",
    "    Dense(units=26,activation=\"linear\",name=\"layer3\")\n",
    "],name=\"Mymodel\"\n",
    ")"
   ]
  },
  {
   "cell_type": "markdown",
   "id": "919f6a51",
   "metadata": {},
   "source": [
    "# Model summary"
   ]
  },
  {
   "cell_type": "code",
   "execution_count": 15,
   "id": "8068a4a4",
   "metadata": {},
   "outputs": [
    {
     "name": "stdout",
     "output_type": "stream",
     "text": [
      "Model: \"Mymodel\"\n",
      "_________________________________________________________________\n",
      " Layer (type)                Output Shape              Param #   \n",
      "=================================================================\n",
      " layer1 (Dense)              (None, 128)               10496     \n",
      "                                                                 \n",
      " layer2 (Dense)              (None, 128)               16512     \n",
      "                                                                 \n",
      " layer3 (Dense)              (None, 26)                3354      \n",
      "                                                                 \n",
      "=================================================================\n",
      "Total params: 30362 (118.60 KB)\n",
      "Trainable params: 30362 (118.60 KB)\n",
      "Non-trainable params: 0 (0.00 Byte)\n",
      "_________________________________________________________________\n"
     ]
    }
   ],
   "source": [
    "model.summary()"
   ]
  },
  {
   "cell_type": "markdown",
   "id": "b735edda",
   "metadata": {},
   "source": [
    "# shape of parameters"
   ]
  },
  {
   "cell_type": "code",
   "execution_count": 16,
   "id": "193236a6",
   "metadata": {},
   "outputs": [],
   "source": [
    "[layer1,layer2,layer3]=model.layers"
   ]
  },
  {
   "cell_type": "code",
   "execution_count": 17,
   "id": "b1e3a711",
   "metadata": {},
   "outputs": [
    {
     "name": "stdout",
     "output_type": "stream",
     "text": [
      "w1 shape:(81, 128) , b1 shape: (128,)\n",
      "w2 shape:(128, 128) , b2 shape: (128,)\n",
      "w3 shape:(128, 26) , b3 shape: (26,)\n"
     ]
    }
   ],
   "source": [
    "w1,b1=layer1.get_weights()\n",
    "w2,b2=layer2.get_weights()\n",
    "\n",
    "w3,b3=layer3.get_weights()\n",
    "\n",
    "print(f\"w1 shape:{w1.shape} , b1 shape: {b1.shape}\")\n",
    "print(f\"w2 shape:{w2.shape} , b2 shape: {b2.shape}\")\n",
    "print(f\"w3 shape:{w3.shape} , b3 shape: {b3.shape}\")"
   ]
  },
  {
   "cell_type": "markdown",
   "id": "b26d6270",
   "metadata": {},
   "source": [
    "# compiling (loss function)"
   ]
  },
  {
   "cell_type": "code",
   "execution_count": 18,
   "id": "8c2cde72",
   "metadata": {},
   "outputs": [],
   "source": [
    "model.compile(\n",
    "    loss=SparseCategoricalCrossentropy(from_logits=True),\n",
    "    optimizer=Adam(learning_rate=0.001),\n",
    "    metrics=[\"accuracy\"]\n",
    ")"
   ]
  },
  {
   "cell_type": "code",
   "execution_count": 19,
   "id": "d7e2c6a8",
   "metadata": {},
   "outputs": [
    {
     "name": "stdout",
     "output_type": "stream",
     "text": [
      "Epoch 1/100\n",
      "WARNING:tensorflow:From C:\\Users\\LAPTOP\\anaconda3\\envs\\scientificProject\\lib\\site-packages\\keras\\src\\utils\\tf_utils.py:492: The name tf.ragged.RaggedTensorValue is deprecated. Please use tf.compat.v1.ragged.RaggedTensorValue instead.\n",
      "\n",
      "WARNING:tensorflow:From C:\\Users\\LAPTOP\\anaconda3\\envs\\scientificProject\\lib\\site-packages\\keras\\src\\engine\\base_layer_utils.py:384: The name tf.executing_eagerly_outside_functions is deprecated. Please use tf.compat.v1.executing_eagerly_outside_functions instead.\n",
      "\n",
      "2220/2220 [==============================] - 5s 2ms/step - loss: 0.9262 - accuracy: 0.7191\n",
      "Epoch 2/100\n",
      "2220/2220 [==============================] - 4s 2ms/step - loss: 0.5565 - accuracy: 0.8225\n",
      "Epoch 3/100\n",
      "2220/2220 [==============================] - 5s 2ms/step - loss: 0.4619 - accuracy: 0.8495\n",
      "Epoch 4/100\n",
      "2220/2220 [==============================] - 5s 2ms/step - loss: 0.4106 - accuracy: 0.8662\n",
      "Epoch 5/100\n",
      "2220/2220 [==============================] - 4s 2ms/step - loss: 0.3746 - accuracy: 0.8754\n",
      "Epoch 6/100\n",
      "2220/2220 [==============================] - 4s 2ms/step - loss: 0.3487 - accuracy: 0.8845\n",
      "Epoch 7/100\n",
      "2220/2220 [==============================] - 4s 2ms/step - loss: 0.3296 - accuracy: 0.8898\n",
      "Epoch 8/100\n",
      "2220/2220 [==============================] - 6s 2ms/step - loss: 0.3137 - accuracy: 0.8944\n",
      "Epoch 9/100\n",
      "2220/2220 [==============================] - 6s 3ms/step - loss: 0.2994 - accuracy: 0.8984\n",
      "Epoch 10/100\n",
      "2220/2220 [==============================] - 5s 2ms/step - loss: 0.2863 - accuracy: 0.9029\n",
      "Epoch 11/100\n",
      "2220/2220 [==============================] - 5s 2ms/step - loss: 0.2752 - accuracy: 0.9064\n",
      "Epoch 12/100\n",
      "2220/2220 [==============================] - 4s 2ms/step - loss: 0.2653 - accuracy: 0.9087\n",
      "Epoch 13/100\n",
      "2220/2220 [==============================] - 4s 2ms/step - loss: 0.2558 - accuracy: 0.9119\n",
      "Epoch 14/100\n",
      "2220/2220 [==============================] - 4s 2ms/step - loss: 0.2467 - accuracy: 0.9149\n",
      "Epoch 15/100\n",
      "2220/2220 [==============================] - 5s 2ms/step - loss: 0.2391 - accuracy: 0.9172\n",
      "Epoch 16/100\n",
      "2220/2220 [==============================] - 5s 2ms/step - loss: 0.2321 - accuracy: 0.9186\n",
      "Epoch 17/100\n",
      "2220/2220 [==============================] - 5s 2ms/step - loss: 0.2248 - accuracy: 0.9208\n",
      "Epoch 18/100\n",
      "2220/2220 [==============================] - 5s 2ms/step - loss: 0.2175 - accuracy: 0.9235\n",
      "Epoch 19/100\n",
      "2220/2220 [==============================] - 4s 2ms/step - loss: 0.2119 - accuracy: 0.9251\n",
      "Epoch 20/100\n",
      "2220/2220 [==============================] - 4s 2ms/step - loss: 0.2055 - accuracy: 0.9267\n",
      "Epoch 21/100\n",
      "2220/2220 [==============================] - 4s 2ms/step - loss: 0.2003 - accuracy: 0.9285\n",
      "Epoch 22/100\n",
      "2220/2220 [==============================] - 4s 2ms/step - loss: 0.1941 - accuracy: 0.9302\n",
      "Epoch 23/100\n",
      "2220/2220 [==============================] - 4s 2ms/step - loss: 0.1893 - accuracy: 0.9314\n",
      "Epoch 24/100\n",
      "2220/2220 [==============================] - 4s 2ms/step - loss: 0.1843 - accuracy: 0.9341\n",
      "Epoch 25/100\n",
      "2220/2220 [==============================] - 5s 2ms/step - loss: 0.1793 - accuracy: 0.9354\n",
      "Epoch 26/100\n",
      "2220/2220 [==============================] - 4s 2ms/step - loss: 0.1745 - accuracy: 0.9363\n",
      "Epoch 27/100\n",
      "2220/2220 [==============================] - 4s 2ms/step - loss: 0.1693 - accuracy: 0.9378\n",
      "Epoch 28/100\n",
      "2220/2220 [==============================] - 4s 2ms/step - loss: 0.1651 - accuracy: 0.9394\n",
      "Epoch 29/100\n",
      "2220/2220 [==============================] - 5s 2ms/step - loss: 0.1607 - accuracy: 0.9405\n",
      "Epoch 30/100\n",
      "2220/2220 [==============================] - 5s 2ms/step - loss: 0.1578 - accuracy: 0.9414\n",
      "Epoch 31/100\n",
      "2220/2220 [==============================] - 4s 2ms/step - loss: 0.1533 - accuracy: 0.9432\n",
      "Epoch 32/100\n",
      "2220/2220 [==============================] - 4s 2ms/step - loss: 0.1474 - accuracy: 0.9459\n",
      "Epoch 33/100\n",
      "2220/2220 [==============================] - 5s 2ms/step - loss: 0.1447 - accuracy: 0.9452\n",
      "Epoch 34/100\n",
      "2220/2220 [==============================] - 4s 2ms/step - loss: 0.1414 - accuracy: 0.9466\n",
      "Epoch 35/100\n",
      "2220/2220 [==============================] - 4s 2ms/step - loss: 0.1379 - accuracy: 0.9473\n",
      "Epoch 36/100\n",
      "2220/2220 [==============================] - 5s 2ms/step - loss: 0.1352 - accuracy: 0.9485\n",
      "Epoch 37/100\n",
      "2220/2220 [==============================] - 5s 2ms/step - loss: 0.1303 - accuracy: 0.9504\n",
      "Epoch 38/100\n",
      "2220/2220 [==============================] - 4s 2ms/step - loss: 0.1274 - accuracy: 0.9518\n",
      "Epoch 39/100\n",
      "2220/2220 [==============================] - 4s 2ms/step - loss: 0.1256 - accuracy: 0.9515\n",
      "Epoch 40/100\n",
      "2220/2220 [==============================] - 4s 2ms/step - loss: 0.1222 - accuracy: 0.9529\n",
      "Epoch 41/100\n",
      "2220/2220 [==============================] - 4s 2ms/step - loss: 0.1190 - accuracy: 0.9542\n",
      "Epoch 42/100\n",
      "2220/2220 [==============================] - 4s 2ms/step - loss: 0.1161 - accuracy: 0.9553\n",
      "Epoch 43/100\n",
      "2220/2220 [==============================] - 4s 2ms/step - loss: 0.1125 - accuracy: 0.9557\n",
      "Epoch 44/100\n",
      "2220/2220 [==============================] - 4s 2ms/step - loss: 0.1114 - accuracy: 0.9568\n",
      "Epoch 45/100\n",
      "2220/2220 [==============================] - 4s 2ms/step - loss: 0.1081 - accuracy: 0.9580\n",
      "Epoch 46/100\n",
      "2220/2220 [==============================] - 4s 2ms/step - loss: 0.1049 - accuracy: 0.9590\n",
      "Epoch 47/100\n",
      "2220/2220 [==============================] - 5s 2ms/step - loss: 0.1025 - accuracy: 0.9597\n",
      "Epoch 48/100\n",
      "2220/2220 [==============================] - 4s 2ms/step - loss: 0.1016 - accuracy: 0.9600\n",
      "Epoch 49/100\n",
      "2220/2220 [==============================] - 4s 2ms/step - loss: 0.0974 - accuracy: 0.9611\n",
      "Epoch 50/100\n",
      "2220/2220 [==============================] - 5s 2ms/step - loss: 0.0971 - accuracy: 0.9610\n",
      "Epoch 51/100\n",
      "2220/2220 [==============================] - 4s 2ms/step - loss: 0.0943 - accuracy: 0.9628\n",
      "Epoch 52/100\n",
      "2220/2220 [==============================] - 4s 2ms/step - loss: 0.0926 - accuracy: 0.9627\n",
      "Epoch 53/100\n",
      "2220/2220 [==============================] - 4s 2ms/step - loss: 0.0894 - accuracy: 0.9647\n",
      "Epoch 54/100\n",
      "2220/2220 [==============================] - 4s 2ms/step - loss: 0.0875 - accuracy: 0.9653\n",
      "Epoch 55/100\n",
      "2220/2220 [==============================] - 4s 2ms/step - loss: 0.0855 - accuracy: 0.9656\n",
      "Epoch 56/100\n",
      "2220/2220 [==============================] - 4s 2ms/step - loss: 0.0847 - accuracy: 0.9659\n",
      "Epoch 57/100\n",
      "2220/2220 [==============================] - 5s 2ms/step - loss: 0.0835 - accuracy: 0.9662\n",
      "Epoch 58/100\n",
      "2220/2220 [==============================] - 5s 2ms/step - loss: 0.0803 - accuracy: 0.9669\n",
      "Epoch 59/100\n",
      "2220/2220 [==============================] - 4s 2ms/step - loss: 0.0791 - accuracy: 0.9681\n",
      "Epoch 60/100\n",
      "2220/2220 [==============================] - 4s 2ms/step - loss: 0.0772 - accuracy: 0.9688\n",
      "Epoch 61/100\n",
      "2220/2220 [==============================] - 5s 2ms/step - loss: 0.0758 - accuracy: 0.9691\n",
      "Epoch 62/100\n",
      "2220/2220 [==============================] - 5s 2ms/step - loss: 0.0756 - accuracy: 0.9693\n",
      "Epoch 63/100\n",
      "2220/2220 [==============================] - 4s 2ms/step - loss: 0.0735 - accuracy: 0.9692\n",
      "Epoch 64/100\n",
      "2220/2220 [==============================] - 5s 2ms/step - loss: 0.0729 - accuracy: 0.9704\n",
      "Epoch 65/100\n",
      "2220/2220 [==============================] - 5s 2ms/step - loss: 0.0705 - accuracy: 0.9709\n",
      "Epoch 66/100\n",
      "2220/2220 [==============================] - 4s 2ms/step - loss: 0.0697 - accuracy: 0.9711\n",
      "Epoch 67/100\n",
      "2220/2220 [==============================] - 4s 2ms/step - loss: 0.0696 - accuracy: 0.9707\n",
      "Epoch 68/100\n",
      "2220/2220 [==============================] - 4s 2ms/step - loss: 0.0666 - accuracy: 0.9724\n",
      "Epoch 69/100\n",
      "2220/2220 [==============================] - 4s 2ms/step - loss: 0.0665 - accuracy: 0.9731\n",
      "Epoch 70/100\n",
      "2220/2220 [==============================] - 4s 2ms/step - loss: 0.0648 - accuracy: 0.9727\n",
      "Epoch 71/100\n",
      "2220/2220 [==============================] - 4s 2ms/step - loss: 0.0657 - accuracy: 0.9731\n",
      "Epoch 72/100\n",
      "2220/2220 [==============================] - 4s 2ms/step - loss: 0.0631 - accuracy: 0.9737\n",
      "Epoch 73/100\n",
      "2220/2220 [==============================] - 4s 2ms/step - loss: 0.0612 - accuracy: 0.9740\n",
      "Epoch 74/100\n",
      "2220/2220 [==============================] - 4s 2ms/step - loss: 0.0613 - accuracy: 0.9746\n",
      "Epoch 75/100\n",
      "2220/2220 [==============================] - 4s 2ms/step - loss: 0.0589 - accuracy: 0.9761\n",
      "Epoch 76/100\n",
      "2220/2220 [==============================] - 4s 2ms/step - loss: 0.0606 - accuracy: 0.9752\n",
      "Epoch 77/100\n",
      "2220/2220 [==============================] - 4s 2ms/step - loss: 0.0593 - accuracy: 0.9753\n",
      "Epoch 78/100\n",
      "2220/2220 [==============================] - 4s 2ms/step - loss: 0.0579 - accuracy: 0.9762\n",
      "Epoch 79/100\n",
      "2220/2220 [==============================] - 4s 2ms/step - loss: 0.0560 - accuracy: 0.9774\n",
      "Epoch 80/100\n",
      "2220/2220 [==============================] - 4s 2ms/step - loss: 0.0567 - accuracy: 0.9763\n",
      "Epoch 81/100\n",
      "2220/2220 [==============================] - 4s 2ms/step - loss: 0.0544 - accuracy: 0.9776\n",
      "Epoch 82/100\n",
      "2220/2220 [==============================] - 4s 2ms/step - loss: 0.0556 - accuracy: 0.9764\n",
      "Epoch 83/100\n",
      "2220/2220 [==============================] - 4s 2ms/step - loss: 0.0550 - accuracy: 0.9768\n",
      "Epoch 84/100\n",
      "2220/2220 [==============================] - 4s 2ms/step - loss: 0.0526 - accuracy: 0.9781\n",
      "Epoch 85/100\n",
      "2220/2220 [==============================] - 4s 2ms/step - loss: 0.0539 - accuracy: 0.9774\n",
      "Epoch 86/100\n",
      "2220/2220 [==============================] - 4s 2ms/step - loss: 0.0513 - accuracy: 0.9790\n",
      "Epoch 87/100\n",
      "2220/2220 [==============================] - 3s 1ms/step - loss: 0.0512 - accuracy: 0.9788\n",
      "Epoch 88/100\n",
      "2220/2220 [==============================] - 4s 2ms/step - loss: 0.0517 - accuracy: 0.9786\n",
      "Epoch 89/100\n",
      "2220/2220 [==============================] - 3s 2ms/step - loss: 0.0516 - accuracy: 0.9784\n",
      "Epoch 90/100\n",
      "2220/2220 [==============================] - 3s 1ms/step - loss: 0.0505 - accuracy: 0.9789\n",
      "Epoch 91/100\n",
      "2220/2220 [==============================] - 3s 1ms/step - loss: 0.0515 - accuracy: 0.9781\n",
      "Epoch 92/100\n",
      "2220/2220 [==============================] - 3s 1ms/step - loss: 0.0478 - accuracy: 0.9799\n",
      "Epoch 93/100\n",
      "2220/2220 [==============================] - 3s 1ms/step - loss: 0.0498 - accuracy: 0.9792\n",
      "Epoch 94/100\n",
      "2220/2220 [==============================] - 3s 1ms/step - loss: 0.0498 - accuracy: 0.9791\n",
      "Epoch 95/100\n",
      "2220/2220 [==============================] - 3s 1ms/step - loss: 0.0472 - accuracy: 0.9804\n",
      "Epoch 96/100\n",
      "2220/2220 [==============================] - 3s 1ms/step - loss: 0.0473 - accuracy: 0.9802\n",
      "Epoch 97/100\n",
      "2220/2220 [==============================] - 3s 2ms/step - loss: 0.0475 - accuracy: 0.9800\n",
      "Epoch 98/100\n",
      "2220/2220 [==============================] - 3s 1ms/step - loss: 0.0467 - accuracy: 0.9807\n",
      "Epoch 99/100\n",
      "2220/2220 [==============================] - 3s 1ms/step - loss: 0.0479 - accuracy: 0.9799\n",
      "Epoch 100/100\n",
      "2220/2220 [==============================] - 3s 1ms/step - loss: 0.0440 - accuracy: 0.9814\n"
     ]
    },
    {
     "data": {
      "image/png": "[encoded data removed]",
      "text/plain": [
       "<Figure size 640x480 with 2 Axes>"
      ]
     },
     "metadata": {},
     "output_type": "display_data"
    }
   ],
   "source": [
    "Letter_recognition=model.fit(\n",
    "    X_train_img,y_train,\n",
    "    epochs=100\n",
    ")\n",
    "# Plot Training Accuracy\n",
    "# Plot Training Accuracy\n",
    "plt.subplot(1, 2, 1)\n",
    "plt.plot(Letter_recognition.history['accuracy'], label='Training Accuracy')\n",
    "plt.title('Training Accuracy')\n",
    "plt.xlabel('Epoch')\n",
    "plt.ylabel('Accuracy')\n",
    "plt.legend()\n",
    "\n",
    "# Plot Training Loss\n",
    "plt.subplot(1, 2, 2)\n",
    "plt.plot(Letter_recognition.history['loss'], label='Training Loss')\n",
    "plt.title('Training Loss')\n",
    "plt.xlabel('Epoch')\n",
    "plt.ylabel('Loss')\n",
    "plt.legend()\n",
    "\n",
    "plt.show()"
   ]
  },
  {
   "cell_type": "markdown",
   "id": "1316c8e5-7dbb-4b13-9a83-abbd232ff34f",
   "metadata": {},
   "source": [
    "# cross validation"
   ]
  },
  {
   "cell_type": "code",
   "execution_count": 41,
   "id": "c6d1b1d1-85d3-42a3-997f-dc4a151f4b4f",
   "metadata": {},
   "outputs": [
    {
     "name": "stdout",
     "output_type": "stream",
     "text": [
      "Cross-Validation Results:\n",
      "[0.9208896160125732, 0.9398930072784424, 0.9506615996360779, 0.9619932174682617, 0.9694516658782959]\n",
      "Mean Accuracy: 94.86%\n",
      "Standard Deviation: 1.71%\n"
     ]
    }
   ],
   "source": [
    "\n",
    "# Assuming you have X_train_img and y_train defined\n",
    "kf = KFold(n_splits=5, shuffle=True, random_state=42)\n",
    "\n",
    "# Lists to store accuracy scores for each fold\n",
    "accuracy_scores = []\n",
    "\n",
    "for train_index, test_index in kf.split(X_train_img):\n",
    "    X_train_fold, X_test_fold = X_train_img[train_index], X_train_img[test_index]\n",
    "    y_train_fold, y_test_fold = y_train[train_index], y_train[test_index]\n",
    "\n",
    "    # Train the model on the current fold\n",
    "    model.fit(X_train_fold, y_train_fold, epochs=100, batch_size=32, verbose=0)\n",
    "\n",
    "    # Evaluate the model on the test fold\n",
    "    _, accuracy = model.evaluate(X_test_fold, y_test_fold, verbose=0)\n",
    "    accuracy_scores.append(accuracy)\n",
    "\n",
    "# Print the cross-validation results\n",
    "print(\"Cross-Validation Results:\")\n",
    "print(accuracy_scores)\n",
    "print(\"Mean Accuracy: {:.2f}%\".format(np.mean(accuracy_scores) * 100))\n",
    "print(\"Standard Deviation: {:.2f}%\".format(np.std(accuracy_scores) * 100))\n"
   ]
  },
  {
   "cell_type": "markdown",
   "id": "d0ea0f09",
   "metadata": {},
   "source": [
    "# make prediction"
   ]
  },
  {
   "cell_type": "code",
   "execution_count": 20,
   "id": "752f2ece",
   "metadata": {},
   "outputs": [
    {
     "name": "stdout",
     "output_type": "stream",
     "text": [
      "555/555 [==============================] - 1s 936us/step\n"
     ]
    }
   ],
   "source": [
    "prediction_model=model.predict(X_test_img)"
   ]
  },
  {
   "cell_type": "code",
   "execution_count": 21,
   "id": "3999399f",
   "metadata": {},
   "outputs": [
    {
     "data": {
      "text/plain": [
       "array([[ -26.453875  ,  -42.774693  ,  -35.073643  ,  -69.51373   ,\n",
       "         -16.85082   ,    2.3411033 ,  -23.394865  ,  -52.182297  ,\n",
       "         -22.973507  ,   -9.226403  ,   -9.946944  ,  -22.502642  ,\n",
       "         -80.92451   ,  -67.7619    ,  -33.614998  ,  -21.65328   ,\n",
       "         -34.548553  ,  -30.459278  ,  -56.723614  ,    8.539328  ,\n",
       "         -75.144714  ,  -48.15555   ,  -73.261154  ,  -42.003773  ,\n",
       "          -7.2065277 ,  -40.280033  ],\n",
       "       [ -24.582687  ,  -38.239048  ,  -65.67417   ,  -87.03687   ,\n",
       "         -14.458755  ,   52.25182   ,  -21.652214  ,  -66.08211   ,\n",
       "         -13.753193  ,  -29.250486  ,  -41.16591   ,  -50.261684  ,\n",
       "        -149.79214   , -103.66017   ,  -79.734764  ,  -16.529228  ,\n",
       "         -20.828342  ,  -29.122416  ,  -21.43501   ,  -27.281122  ,\n",
       "        -147.60497   ,  -82.41274   ,  -59.953358  ,  -67.574524  ,\n",
       "         -72.45771   ,  -41.85605   ],\n",
       "       [ -20.253307  ,  -43.552383  ,  -63.467     ,  -49.797146  ,\n",
       "         -80.65965   ,  -91.00916   ,  -40.99603   ,  -15.521111  ,\n",
       "         -87.91859   ,  -43.248608  ,   -7.9886537 ,  -49.837543  ,\n",
       "          31.773746  ,   15.535559  ,  -75.638145  ,  -54.989864  ,\n",
       "         -40.43143   ,  -28.357666  ,  -62.56712   ,  -96.03889   ,\n",
       "         -22.9614    ,  -25.144867  ,   -4.311783  ,  -32.327217  ,\n",
       "         -23.33005   ,  -46.94661   ],\n",
       "       [ -47.721596  ,  -25.906948  ,  -46.234688  ,  -17.496367  ,\n",
       "         -38.685795  ,  -17.66303   ,  -69.72444   ,  -29.554482  ,\n",
       "          20.514694  ,  -14.46784   ,  -28.962858  ,   -1.536565  ,\n",
       "        -162.10973   ,  -92.44116   , -118.781906  ,  -33.8867    ,\n",
       "         -47.19418   ,  -56.297398  ,  -48.935444  ,  -21.81662   ,\n",
       "         -57.22142   ,  -81.09009   ,  -58.573753  ,  -55.300377  ,\n",
       "         -65.58323   ,  -20.24781   ],\n",
       "       [ -41.179546  ,  -32.392895  ,   -6.3734865 ,  -28.681953  ,\n",
       "         -15.064329  ,  -36.31747   ,  -33.385567  ,  -76.500595  ,\n",
       "         -59.948048  ,  -50.266514  ,  -65.61734   ,  -20.403553  ,\n",
       "        -107.336716  ,  -55.87826   ,  -16.97212   ,   -2.8875134 ,\n",
       "         -33.85092   ,  -11.5859785 ,  -43.16259   ,  -40.23866   ,\n",
       "         -62.658913  ,  -49.75784   ,  -59.960556  ,  -52.56378   ,\n",
       "         -58.22143   ,  -69.20709   ],\n",
       "       [ -68.68596   ,  -17.560183  ,  -58.015522  ,  -50.471878  ,\n",
       "         -34.627678  ,  -26.569847  ,  -32.03443   ,  -15.278464  ,\n",
       "         -37.265755  ,  -26.541405  ,   10.458681  ,  -14.911914  ,\n",
       "         -57.20436   ,  -70.38538   , -138.66814   ,  -44.544323  ,\n",
       "         -31.365997  ,   -4.1607533 ,  -32.740532  ,  -41.031822  ,\n",
       "         -34.556385  ,  -55.37186   ,  -38.998695  ,   -5.6252575 ,\n",
       "         -26.594807  ,  -42.31839   ],\n",
       "       [ -29.830578  ,  -34.62782   ,  -10.730379  ,  -23.678583  ,\n",
       "         -13.206982  ,  -73.510994  ,  -22.895405  ,  -27.573463  ,\n",
       "         -24.953081  ,  -18.297733  ,  -25.4267    ,   -9.428695  ,\n",
       "         -38.720253  ,  -26.330362  ,   -9.939347  ,  -27.64785   ,\n",
       "         -33.21432   ,  -33.90556   ,  -47.956944  ,  -41.877205  ,\n",
       "          15.691231  ,   -2.4874578 ,   -4.8955655 ,  -49.157776  ,\n",
       "          -5.8311067 ,  -48.555126  ],\n",
       "       [   3.7303576 ,  -15.941531  ,  -62.968925  ,  -39.79215   ,\n",
       "         -52.13333   ,   -5.6699677 ,  -45.74229   ,   26.728569  ,\n",
       "         -37.08811   ,  -26.922762  ,  -19.106686  ,  -32.126587  ,\n",
       "         -19.012506  ,  -12.115486  ,  -74.51989   ,  -31.202988  ,\n",
       "         -52.351597  ,  -32.172592  ,  -56.399418  ,   13.503337  ,\n",
       "         -83.05461   ,  -43.824184  ,  -36.87133   ,  -20.440231  ,\n",
       "         -13.253175  ,  -38.883377  ],\n",
       "       [ -20.753155  ,  -30.66895   ,  -25.932737  ,  -12.279603  ,\n",
       "         -49.497486  ,  -20.242743  ,  -12.552806  ,  -17.319218  ,\n",
       "           6.509098  ,   -9.243879  ,  -34.906296  ,    8.6828985 ,\n",
       "         -59.254524  ,  -24.901669  ,  -37.9639    ,  -20.699013  ,\n",
       "         -21.486547  ,  -23.094524  ,  -22.57041   ,  -26.47347   ,\n",
       "         -36.31915   ,  -10.538352  ,  -19.43354   ,  -23.09544   ,\n",
       "         -19.165586  ,  -29.964817  ],\n",
       "       [ -33.055897  ,  -23.566557  ,  -52.694283  ,  -36.099888  ,\n",
       "         -16.09208   ,  -39.91669   ,    0.34295923,  -91.21898   ,\n",
       "         -64.6799    ,  -21.137325  ,  -66.54272   ,  -52.084896  ,\n",
       "        -112.84614   ,  -87.82339   ,  -33.66505   ,  -44.52619   ,\n",
       "         -19.55007   ,  -54.111282  ,   15.172413  ,  -52.32864   ,\n",
       "         -88.12242   ,  -35.351208  ,  -31.874912  ,  -37.996536  ,\n",
       "         -27.211496  ,  -22.452522  ]], dtype=float32)"
      ]
     },
     "execution_count": 21,
     "metadata": {},
     "output_type": "execute_result"
    }
   ],
   "source": [
    "prediction_model[:10]"
   ]
  },
  {
   "cell_type": "code",
   "execution_count": 22,
   "id": "cd9e8b68",
   "metadata": {},
   "outputs": [],
   "source": [
    "prediction_p=tf.nn.softmax(prediction_model)\n",
    "predicted_labels = tf.argmax(prediction_p, axis=1)\n"
   ]
  },
  {
   "cell_type": "markdown",
   "id": "e411638e",
   "metadata": {},
   "source": [
    "# accuracy"
   ]
  },
  {
   "cell_type": "code",
   "execution_count": 23,
   "id": "d02f592d",
   "metadata": {},
   "outputs": [
    {
     "name": "stdout",
     "output_type": "stream",
     "text": [
      "555/555 [==============================] - 1s 1ms/step - loss: 0.9085 - accuracy: 0.8791\n"
     ]
    }
   ],
   "source": [
    "loss,accurecy=model.evaluate(X_test_img,y_test)"
   ]
  },
  {
   "cell_type": "code",
   "execution_count": 24,
   "id": "29e30db2",
   "metadata": {},
   "outputs": [
    {
     "data": {
      "text/plain": [
       "0.8791103363037109"
      ]
     },
     "execution_count": 24,
     "metadata": {},
     "output_type": "execute_result"
    }
   ],
   "source": [
    "accurecy"
   ]
  },
  {
   "cell_type": "markdown",
   "id": "1bc51a8f-1c3e-4621-b37c-1180ad7fe9ef",
   "metadata": {},
   "source": [
    "# all the mertics for classification"
   ]
  },
  {
   "cell_type": "code",
   "execution_count": 27,
   "id": "64eccbae-76a0-499c-b5ff-46575a43aa5a",
   "metadata": {},
   "outputs": [
    {
     "name": "stdout",
     "output_type": "stream",
     "text": [
      "Accuracy: 87.91%\n",
      "Precision: 0.88\n",
      "Recall: 0.88\n",
      "F1 Score: 0.88\n"
     ]
    }
   ],
   "source": [
    "accuracy = accuracy_score(y_test, predicted_labels)\n",
    "precision = precision_score(y_test, predicted_labels, average='weighted')  # Set average to 'weighted'\n",
    "recall = recall_score(y_test, predicted_labels, average='weighted')  # Set average to 'weighted'\n",
    "f1 = f1_score(y_test, predicted_labels, average='weighted')  # Set average to 'weighted'\n",
    "\n",
    "print(\"Accuracy: {:.2f}%\".format(accuracy * 100))\n",
    "print(\"Precision: {:.2f}\".format(precision))\n",
    "print(\"Recall: {:.2f}\".format(recall))\n",
    "print(\"F1 Score: {:.2f}\".format(f1))\n"
   ]
  },
  {
   "cell_type": "markdown",
   "id": "6d423dc9-2124-4a5d-bf3e-5ed1aff6e52b",
   "metadata": {},
   "source": [
    "# saving the model\n"
   ]
  },
  {
   "cell_type": "code",
   "execution_count": 48,
   "id": "d14209e6-466b-4db9-9c05-aa59ceb7a781",
   "metadata": {},
   "outputs": [
    {
     "name": "stdout",
     "output_type": "stream",
     "text": [
      "INFO:tensorflow:Assets written to: D:/Ai model/model1\\assets\n"
     ]
    },
    {
     "name": "stderr",
     "output_type": "stream",
     "text": [
      "INFO:tensorflow:Assets written to: D:/Ai model/model1\\assets\n"
     ]
    }
   ],
   "source": [
    "model.save('D:/Ai model/model1')\n"
   ]
  },
  {
   "cell_type": "code",
   "execution_count": null,
   "id": "3dbfbc38-4614-4a7a-9f27-11e224134f6d",
   "metadata": {},
   "outputs": [],
   "source": []
  }
 ],
 "metadata": {
  "kernelspec": {
   "display_name": "Python 3 (ipykernel)",
   "language": "python",
   "name": "python3"
  },
  "language_info": {
   "codemirror_mode": {
    "name": "ipython",
    "version": 3
   },
   "file_extension": ".py",
   "mimetype": "text/x-python",
   "name": "python",
   "nbconvert_exporter": "python",
   "pygments_lexer": "ipython3",
   "version": "3.9.17"
  }
 },
 "nbformat": 4,
 "nbformat_minor": 5
}

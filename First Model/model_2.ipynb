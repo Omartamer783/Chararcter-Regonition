{
 "cells": [
  {
   "cell_type": "code",
   "execution_count": 55,
   "id": "b504d826-f26d-4a82-a96c-331f54288ff2",
   "metadata": {},
   "outputs": [],
   "source": [
    "import numpy as np\n",
    "import matplotlib\n",
    "matplotlib.use('TkAgg')\n",
    "import matplotlib.pyplot as plt\n",
    "import tensorflow as tf\n",
    "import keras\n",
    "from sklearn.model_selection import cross_val_score, KFold\n",
    "from sklearn.metrics import accuracy_score, precision_score, recall_score, f1_score\n",
    "from sklearn.metrics import roc_curve, roc_auc_score\n",
    "from keras.optimizers import Adam\n",
    "import visualkeras\n",
    "from tensorflow.keras.models import load_model\n",
    "\n"
   ]
  },
  {
   "cell_type": "markdown",
   "id": "c51e147d-26e6-4382-af63-57f26f73acf3",
   "metadata": {},
   "source": [
    "# Load dataset(training and test )\n"
   ]
  },
  {
   "cell_type": "code",
   "execution_count": 3,
   "id": "cfec9064-70ae-465f-98e9-eae311234f38",
   "metadata": {},
   "outputs": [],
   "source": [
    "dataset = np.genfromtxt('D:\\AI dataset\\emnist-letters-train.csv', delimiter=',', skip_header=0)\n",
    "dataset_test = np.genfromtxt('D:\\AI dataset\\emnist-letters-test.csv', delimiter=',', skip_header=0)"
   ]
  },
  {
   "cell_type": "markdown",
   "id": "d1d03938-03ac-429f-b506-8ccf8f781554",
   "metadata": {},
   "source": [
    "# devide the dataset into x_train,y_train,x_test,y_test\n"
   ]
  },
  {
   "cell_type": "code",
   "execution_count": 13,
   "id": "6e5e87a5-7fc7-48f5-b33e-551584db515c",
   "metadata": {},
   "outputs": [],
   "source": [
    "X_train = dataset[:, 1:]\n",
    "y_train = dataset[:, 0] - 1\n",
    "X_test = dataset_test[:, 1:]\n",
    "y_test = dataset_test[:, 0] - 1"
   ]
  },
  {
   "cell_type": "markdown",
   "id": "d2f84799-c2df-409b-8268-32553a25510d",
   "metadata": {},
   "source": [
    "# show an image \n"
   ]
  },
  {
   "cell_type": "code",
   "execution_count": 6,
   "id": "05241d85-38b0-4755-8e61-4a55f760921e",
   "metadata": {},
   "outputs": [],
   "source": [
    "sample_pic = X_test[5, :].reshape(1, -1)\n",
    "image = np.reshape(sample_pic, (28, 28))\n",
    "rotated_image = np.rot90(image, k=3)\n",
    "flipped_image = np.fliplr(rotated_image)\n",
    "plt.imshow(flipped_image, cmap='gray')\n",
    "plt.axis('off')\n",
    "plt.show()"
   ]
  },
  {
   "cell_type": "markdown",
   "id": "6b81df16-f285-40bd-ae56-64e5541b5d67",
   "metadata": {},
   "source": [
    "# normalize the data"
   ]
  },
  {
   "cell_type": "code",
   "execution_count": 40,
   "id": "1fcdb8cc-27a6-4f7e-8aec-d307c1f3a08f",
   "metadata": {},
   "outputs": [],
   "source": [
    "X_train = X_train / 255\n",
    "X_test = X_test / 255"
   ]
  },
  {
   "cell_type": "markdown",
   "id": "8a29d67a-d664-450d-899e-db2b33069265",
   "metadata": {},
   "source": [
    "# the model "
   ]
  },
  {
   "cell_type": "code",
   "execution_count": 39,
   "id": "c3b964be-a888-49d6-ab82-d5f8a1f0d6f9",
   "metadata": {},
   "outputs": [],
   "source": [
    "model = keras.Sequential([\n",
    " keras.layers.Dense(784, input_shape=(784,), activation='relu'),  # First hidden layer with 64 units and ReLU activation\n",
    " keras.layers.Dense(26, activation='softmax')\n",
    "])"
   ]
  },
  {
   "cell_type": "markdown",
   "id": "6fb50d73-a380-4a4b-b3e1-c61af54f193c",
   "metadata": {},
   "source": [
    "# model compilation"
   ]
  },
  {
   "cell_type": "code",
   "execution_count": 41,
   "id": "5068970d-a0f6-4e87-a441-38ea675da0e0",
   "metadata": {},
   "outputs": [],
   "source": [
    "\n",
    "\n",
    "model.compile(\n",
    "    optimizer='adam',\n",
    "    loss='sparse_categorical_crossentropy',\n",
    "    metrics=['accuracy']\n",
    ")"
   ]
  },
  {
   "cell_type": "code",
   "execution_count": 42,
   "id": "0395cb00-d96e-4507-843a-f585c1e8b4b7",
   "metadata": {},
   "outputs": [
    {
     "name": "stdout",
     "output_type": "stream",
     "text": [
      "Epoch 1/50\n",
      "2775/2775 [==============================] - 19s 6ms/step - loss: 1.6772 - accuracy: 0.5365\n",
      "Epoch 2/50\n",
      "2775/2775 [==============================] - 17s 6ms/step - loss: 1.1414 - accuracy: 0.6664\n",
      "Epoch 3/50\n",
      "2775/2775 [==============================] - 15s 5ms/step - loss: 1.0277 - accuracy: 0.7006\n",
      "Epoch 4/50\n",
      "2775/2775 [==============================] - 15s 5ms/step - loss: 0.9286 - accuracy: 0.7318\n",
      "Epoch 5/50\n",
      "2775/2775 [==============================] - 15s 5ms/step - loss: 0.8284 - accuracy: 0.7617\n",
      "Epoch 6/50\n",
      "2775/2775 [==============================] - 15s 5ms/step - loss: 0.7342 - accuracy: 0.7899\n",
      "Epoch 7/50\n",
      "2775/2775 [==============================] - 15s 5ms/step - loss: 0.6550 - accuracy: 0.8125\n",
      "Epoch 8/50\n",
      "2775/2775 [==============================] - 14s 5ms/step - loss: 0.5915 - accuracy: 0.8299\n",
      "Epoch 9/50\n",
      "2775/2775 [==============================] - 14s 5ms/step - loss: 0.5413 - accuracy: 0.8446\n",
      "Epoch 10/50\n",
      "2775/2775 [==============================] - 14s 5ms/step - loss: 0.5006 - accuracy: 0.8546\n",
      "Epoch 11/50\n",
      "2775/2775 [==============================] - 15s 5ms/step - loss: 0.4676 - accuracy: 0.8631\n",
      "Epoch 12/50\n",
      "2775/2775 [==============================] - 15s 5ms/step - loss: 0.4406 - accuracy: 0.8705\n",
      "Epoch 13/50\n",
      "2775/2775 [==============================] - 15s 5ms/step - loss: 0.4170 - accuracy: 0.8776\n",
      "Epoch 14/50\n",
      "2775/2775 [==============================] - 15s 5ms/step - loss: 0.3968 - accuracy: 0.8827\n",
      "Epoch 15/50\n",
      "2775/2775 [==============================] - 15s 5ms/step - loss: 0.3794 - accuracy: 0.8873\n",
      "Epoch 16/50\n",
      "2775/2775 [==============================] - 15s 5ms/step - loss: 0.3634 - accuracy: 0.8918\n",
      "Epoch 17/50\n",
      "2775/2775 [==============================] - 15s 5ms/step - loss: 0.3497 - accuracy: 0.8960\n",
      "Epoch 18/50\n",
      "2775/2775 [==============================] - 15s 5ms/step - loss: 0.3366 - accuracy: 0.8985\n",
      "Epoch 19/50\n",
      "2775/2775 [==============================] - 15s 5ms/step - loss: 0.3261 - accuracy: 0.9023\n",
      "Epoch 20/50\n",
      "2775/2775 [==============================] - 15s 5ms/step - loss: 0.3152 - accuracy: 0.9054\n",
      "Epoch 21/50\n",
      "2775/2775 [==============================] - 15s 5ms/step - loss: 0.3057 - accuracy: 0.9075\n",
      "Epoch 22/50\n",
      "2775/2775 [==============================] - 15s 5ms/step - loss: 0.2966 - accuracy: 0.9096\n",
      "Epoch 23/50\n",
      "2775/2775 [==============================] - 16s 6ms/step - loss: 0.2892 - accuracy: 0.9125\n",
      "Epoch 24/50\n",
      "2775/2775 [==============================] - 15s 5ms/step - loss: 0.2809 - accuracy: 0.9143\n",
      "Epoch 25/50\n",
      "2775/2775 [==============================] - 15s 5ms/step - loss: 0.2741 - accuracy: 0.9160\n",
      "Epoch 26/50\n",
      "2775/2775 [==============================] - 15s 5ms/step - loss: 0.2671 - accuracy: 0.9182\n",
      "Epoch 27/50\n",
      "2775/2775 [==============================] - 15s 5ms/step - loss: 0.2608 - accuracy: 0.9200\n",
      "Epoch 28/50\n",
      "2775/2775 [==============================] - 15s 5ms/step - loss: 0.2544 - accuracy: 0.9219\n",
      "Epoch 29/50\n",
      "2775/2775 [==============================] - 15s 5ms/step - loss: 0.2492 - accuracy: 0.9229\n",
      "Epoch 30/50\n",
      "2775/2775 [==============================] - 15s 5ms/step - loss: 0.2437 - accuracy: 0.9247\n",
      "Epoch 31/50\n",
      "2775/2775 [==============================] - 15s 5ms/step - loss: 0.2386 - accuracy: 0.9257\n",
      "Epoch 32/50\n",
      "2775/2775 [==============================] - 15s 6ms/step - loss: 0.2337 - accuracy: 0.9283\n",
      "Epoch 33/50\n",
      "2775/2775 [==============================] - 15s 6ms/step - loss: 0.2288 - accuracy: 0.9286\n",
      "Epoch 34/50\n",
      "2775/2775 [==============================] - 15s 5ms/step - loss: 0.2242 - accuracy: 0.9301\n",
      "Epoch 35/50\n",
      "2775/2775 [==============================] - 15s 5ms/step - loss: 0.2198 - accuracy: 0.9309\n",
      "Epoch 36/50\n",
      "2775/2775 [==============================] - 15s 5ms/step - loss: 0.2153 - accuracy: 0.9323\n",
      "Epoch 37/50\n",
      "2775/2775 [==============================] - 15s 5ms/step - loss: 0.2113 - accuracy: 0.9341\n",
      "Epoch 38/50\n",
      "2775/2775 [==============================] - 15s 5ms/step - loss: 0.2074 - accuracy: 0.9350\n",
      "Epoch 39/50\n",
      "2775/2775 [==============================] - 17s 6ms/step - loss: 0.2037 - accuracy: 0.9355\n",
      "Epoch 40/50\n",
      "2775/2775 [==============================] - 15s 5ms/step - loss: 0.1998 - accuracy: 0.9374\n",
      "Epoch 41/50\n",
      "2775/2775 [==============================] - 15s 5ms/step - loss: 0.1964 - accuracy: 0.9384\n",
      "Epoch 42/50\n",
      "2775/2775 [==============================] - 15s 6ms/step - loss: 0.1928 - accuracy: 0.9391\n",
      "Epoch 43/50\n",
      "2775/2775 [==============================] - 16s 6ms/step - loss: 0.1892 - accuracy: 0.9398\n",
      "Epoch 44/50\n",
      "2775/2775 [==============================] - 15s 6ms/step - loss: 0.1860 - accuracy: 0.9417\n",
      "Epoch 45/50\n",
      "2775/2775 [==============================] - 16s 6ms/step - loss: 0.1825 - accuracy: 0.9423\n",
      "Epoch 46/50\n",
      "2775/2775 [==============================] - 16s 6ms/step - loss: 0.1795 - accuracy: 0.9430\n",
      "Epoch 47/50\n",
      "2775/2775 [==============================] - 16s 6ms/step - loss: 0.1763 - accuracy: 0.9446\n",
      "Epoch 48/50\n",
      "2775/2775 [==============================] - 15s 6ms/step - loss: 0.1736 - accuracy: 0.9451\n",
      "Epoch 49/50\n",
      "2775/2775 [==============================] - 15s 5ms/step - loss: 0.1708 - accuracy: 0.9464\n",
      "Epoch 50/50\n",
      "2775/2775 [==============================] - 15s 5ms/step - loss: 0.1678 - accuracy: 0.9469\n"
     ]
    }
   ],
   "source": [
    "Letter_recognition=model.fit(X_train, y_train, epochs=50)\n",
    "plt.subplot(1, 2, 1)\n",
    "plt.plot(Letter_recognition.history['accuracy'], label='Training Accuracy')\n",
    "plt.title('Training Accuracy')\n",
    "plt.xlabel('Epoch')\n",
    "plt.ylabel('Accuracy')\n",
    "plt.legend()\n",
    "\n",
    "# Plot Training Loss\n",
    "plt.subplot(1, 2, 2)\n",
    "plt.plot(Letter_recognition.history['loss'], label='Training Loss')\n",
    "plt.title('Training Loss')\n",
    "plt.xlabel('Epoch')\n",
    "plt.ylabel('Loss')\n",
    "plt.legend()\n",
    "\n",
    "plt.show()"
   ]
  },
  {
   "cell_type": "markdown",
   "id": "39001da1-8f93-4905-8672-e59b22508e20",
   "metadata": {},
   "source": [
    "# model evaluation\n"
   ]
  },
  {
   "cell_type": "code",
   "execution_count": 43,
   "id": "dae33b35-a075-4c5c-9ec0-b65f3d497a82",
   "metadata": {},
   "outputs": [
    {
     "name": "stdout",
     "output_type": "stream",
     "text": [
      "463/463 [==============================] - 4s 1ms/step - loss: 0.3443 - accuracy: 0.8965\n",
      "0.34433242678642273 0.8964864611625671\n"
     ]
    }
   ],
   "source": [
    "loss,accurecy=model.evaluate(X_test,y_test)\n",
    "print(loss,accurecy)"
   ]
  },
  {
   "cell_type": "code",
   "execution_count": 45,
   "id": "f3b3cc24-5ee6-4478-aecb-c067b25faca3",
   "metadata": {},
   "outputs": [
    {
     "name": "stdout",
     "output_type": "stream",
     "text": [
      "Cross-Validation Results:\n",
      "[0.9264076352119446, 0.9461148381233215, 0.9625563025474548, 0.9760698080062866, 0.9797860383987427]\n",
      "Mean Accuracy: 95.82%\n",
      "Standard Deviation: 1.98%\n"
     ]
    }
   ],
   "source": [
    "# Assuming you have X_train_img and y_train defined\n",
    "kf = KFold(n_splits=5, shuffle=True, random_state=42)\n",
    "\n",
    "# Lists to store accuracy scores for each fold\n",
    "accuracy_scores = []\n",
    "\n",
    "for train_index, test_index in kf.split(X_train):\n",
    "    X_train_fold, X_test_fold = X_train[train_index], X_train[test_index]\n",
    "    y_train_fold, y_test_fold = y_train[train_index], y_train[test_index]\n",
    "\n",
    "    # Train the model on the current fold\n",
    "    model.fit(X_train_fold, y_train_fold, epochs=50, batch_size=32, verbose=0)\n",
    "\n",
    "    # Evaluate the model on the test fold\n",
    "    _, accuracy = model.evaluate(X_test_fold, y_test_fold, verbose=0)\n",
    "    accuracy_scores.append(accuracy)\n",
    "\n",
    "# Print the cross-validation results\n",
    "print(\"Cross-Validation Results:\")\n",
    "print(accuracy_scores)\n",
    "print(\"Mean Accuracy: {:.2f}%\".format(np.mean(accuracy_scores) * 100))\n",
    "print(\"Standard Deviation: {:.2f}%\".format(np.std(accuracy_scores) * 100))"
   ]
  },
  {
   "cell_type": "code",
   "execution_count": 46,
   "id": "291f61d8-f2ff-4bae-a35f-27b1bbf34e9f",
   "metadata": {},
   "outputs": [
    {
     "name": "stdout",
     "output_type": "stream",
     "text": [
      "463/463 [==============================] - 5s 1ms/step\n"
     ]
    }
   ],
   "source": [
    "# Assuming X_test is your testing set\n",
    "predictions = model.predict(X_test)\n",
    "\n",
    "# Get the index of the class with the highest probability for each example\n",
    "predicted_labels = np.argmax(predictions, axis=1)\n"
   ]
  },
  {
   "cell_type": "code",
   "execution_count": 47,
   "id": "80e3c892-aae6-4062-ab23-8995ecfdda48",
   "metadata": {},
   "outputs": [
    {
     "name": "stdout",
     "output_type": "stream",
     "text": [
      "[ 0.  0.  0. ... 18. 18. 18.]\n",
      "[ 0  0  0 ... 18 18 18]\n"
     ]
    }
   ],
   "source": [
    "print(y_test)\n",
    "print(predicted_labels)"
   ]
  },
  {
   "cell_type": "code",
   "execution_count": 54,
   "id": "289a309d-cc3b-44c0-86ef-0f27fce6f519",
   "metadata": {},
   "outputs": [
    {
     "name": "stdout",
     "output_type": "stream",
     "text": [
      "Accuracy: 88.43%\n",
      "Precision: 0.90\n",
      "Recall: 0.88\n",
      "F1 Score: 0.89\n"
     ]
    },
    {
     "name": "stderr",
     "output_type": "stream",
     "text": [
      "C:\\Users\\LAPTOP\\anaconda3\\envs\\scientificProject\\lib\\site-packages\\sklearn\\metrics\\_classification.py:1471: UndefinedMetricWarning: Recall is ill-defined and being set to 0.0 in labels with no true samples. Use `zero_division` parameter to control this behavior.\n",
      "  _warn_prf(average, modifier, msg_start, len(result))\n"
     ]
    }
   ],
   "source": [
    "\n",
    "\n",
    "\n",
    "# Assuming y_test is your true labels and predicted_labels is the predicted labels\n",
    "accuracy = accuracy_score(y_test, predicted_labels)\n",
    "precision = precision_score(y_test, predicted_labels, average='weighted')  # Set average to 'weighted'\n",
    "recall = recall_score(y_test, predicted_labels, average='weighted')  # Set average to 'weighted'\n",
    "f1 = f1_score(y_test, predicted_labels, average='weighted')  # Set average to 'weighted'\n",
    "\n",
    "print(\"Accuracy: {:.2f}%\".format(accuracy * 100))\n",
    "print(\"Precision: {:.2f}\".format(precision))\n",
    "print(\"Recall: {:.2f}\".format(recall))\n",
    "print(\"F1 Score: {:.2f}\".format(f1))\n"
   ]
  },
  {
   "cell_type": "markdown",
   "id": "74b50eee-c590-4529-a298-d3256a9f5a2b",
   "metadata": {},
   "source": [
    "# saving the model"
   ]
  },
  {
   "cell_type": "code",
   "execution_count": 56,
   "id": "2c8d545e-92e6-4f90-bfb2-b00b1dd126c3",
   "metadata": {},
   "outputs": [
    {
     "name": "stdout",
     "output_type": "stream",
     "text": [
      "INFO:tensorflow:Assets written to: D:/Ai model/model2\\assets\n"
     ]
    },
    {
     "name": "stderr",
     "output_type": "stream",
     "text": [
      "INFO:tensorflow:Assets written to: D:/Ai model/model2\\assets\n"
     ]
    }
   ],
   "source": [
    "model.save('D:/Ai model/model2')\n",
    "\n"
   ]
  },
  {
   "cell_type": "code",
   "execution_count": null,
   "id": "dd816e01-1308-41a6-b11f-54d98d7d4c87",
   "metadata": {},
   "outputs": [],
   "source": []
  }
 ],
 "metadata": {
  "kernelspec": {
   "display_name": "Python 3 (ipykernel)",
   "language": "python",
   "name": "python3"
  },
  "language_info": {
   "codemirror_mode": {
    "name": "ipython",
    "version": 3
   },
   "file_extension": ".py",
   "mimetype": "text/x-python",
   "name": "python",
   "nbconvert_exporter": "python",
   "pygments_lexer": "ipython3",
   "version": "3.9.17"
  }
 },
 "nbformat": 4,
 "nbformat_minor": 5
}

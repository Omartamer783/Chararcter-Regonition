{
 "cells": [
  {
   "cell_type": "code",
   "execution_count": 41,
   "id": "d589b595",
   "metadata": {},
   "outputs": [],
   "source": [
    "from tensorflow.keras.models import load_model\n",
    "model = load_model('C:/Users/Ahmed Mohamed/Videos/project/model2/model2')\n",
    "#model = load_model('replace your path ') "
   ]
  },
  {
   "cell_type": "code",
   "execution_count": 42,
   "id": "a9a11d96",
   "metadata": {},
   "outputs": [],
   "source": [
    "import customtkinter\n",
    "import tkinter as tk\n",
    "from tkinter import filedialog\n",
    "import numpy as np\n",
    "\n",
    "from PIL import Image\n",
    "from skimage import feature,io,exposure\n",
    "import tensorflow as tf\n"
   ]
  },
  {
   "cell_type": "code",
   "execution_count": 43,
   "id": "dabd9f7f",
   "metadata": {},
   "outputs": [],
   "source": [
    "def MakePrediction(img):\n",
    "    prediction=model.predict([img])\n",
    "    \n",
    "    return np.argmax(prediction)"
   ]
  },
  {
   "cell_type": "code",
   "execution_count": 44,
   "id": "3d2d9580",
   "metadata": {},
   "outputs": [],
   "source": [
    "\n",
    "\n",
    "def determine_letter(prediction):\n",
    "    letters={i: chr(ord('A') + i) for i in range(26)}\n",
    "    \n",
    "    return letters[prediction]\n",
    "    "
   ]
  },
  {
   "cell_type": "code",
   "execution_count": 45,
   "id": "ce4c4b80",
   "metadata": {},
   "outputs": [],
   "source": [
    "def upload_file():\n",
    "    file_path = filedialog.askopenfilename()\n",
    "    # Process the uploaded file path or perform any desired actions\n",
    "    if file_path:\n",
    "        image=Image.open(file_path)\n",
    "        \n",
    "        image_array=np.asarray(image)\n",
    "        \n",
    "\n",
    "        if len(image_array.shape) == 2:\n",
    "    # Handle the 2D case differently, depending on your requirements\n",
    "           image_array_2d = image_array.reshape((1, -1))  # Reshape to a 1D array\n",
    "        elif len(image_array.shape) == 3:\n",
    "         # Access the first channel and reshape\n",
    "           image_array_2d = image_array[:,:,0].reshape((1, 784))\n",
    "        \n",
    "\n",
    "      #  image_array_2d= image_array[:,:,0].reshape((1,784))\n",
    "        \n",
    "        image_array_2d=image_array_2d/255\n",
    "        \n",
    "        \"\"\"\n",
    "        hog_image=extract_feature(image_array_2d)\n",
    "        \n",
    "        hog_image=hog_image.reshape((1,81))\n",
    "        \"\"\"\n",
    "        \n",
    "        \n",
    "        prediction=MakePrediction(image_array_2d)\n",
    "        \n",
    "        \n",
    "        predicted_letter=determine_letter(prediction)\n",
    "        \n",
    "        top_window=customtkinter.CTkToplevel(app)\n",
    "        \n",
    "        top_window.grid_columnconfigure(0,weight=1)\n",
    "        top_window.grid_rowconfigure(0,weight=1)\n",
    "        \n",
    "        top_window.title(\"The Pridiction Of a Model\")\n",
    "        \n",
    "        \n",
    "        screen_width=app.winfo_screenwidth()\n",
    "        screen_height=app.winfo_screenheight()\n",
    "\n",
    "        w=350\n",
    "        h=200\n",
    "\n",
    "        a=(screen_width/2)-(w/2)\n",
    "        b=(screen_height/2)-(h/2)\n",
    "\n",
    "\n",
    "        top_window.geometry(\"%dx%d+%d+%d\" %(w,h,a,b))\n",
    "        \n",
    "        label2=customtkinter.CTkLabel(top_window,text=f\"The Character in image is {predicted_letter}\",text_color=\"blue\",fg_color=\"transparent\",font=(\"Arial\",22))\n",
    "        label2.grid(row=0,column=0,padx=10,pady=10)\n",
    "                \n",
    "        top_window.attributes('-topmost', 'true')"
   ]
  },
  {
   "cell_type": "code",
   "execution_count": 46,
   "id": "74938ea2",
   "metadata": {},
   "outputs": [],
   "source": [
    "app=customtkinter.CTk()"
   ]
  },
  {
   "cell_type": "code",
   "execution_count": 47,
   "id": "34f7f618",
   "metadata": {},
   "outputs": [],
   "source": [
    "customtkinter.set_appearance_mode(\"dark\")\n",
    "customtkinter.set_default_color_theme(\"dark-blue\")"
   ]
  },
  {
   "cell_type": "code",
   "execution_count": 48,
   "id": "c7827ca6",
   "metadata": {},
   "outputs": [],
   "source": [
    "screen_width=app.winfo_screenwidth()\n",
    "screen_height=app.winfo_screenheight()\n",
    "\n",
    "w=500\n",
    "h=500\n",
    "\n",
    "a=(screen_width/2)-(w/2)\n",
    "b=(screen_height/2)-(h/2)\n",
    "\n",
    "\n",
    "app.geometry(\"%dx%d+%d+%d\" %(w,h,a,b))"
   ]
  },
  {
   "cell_type": "code",
   "execution_count": 49,
   "id": "0afac87a",
   "metadata": {},
   "outputs": [
    {
     "data": {
      "text/plain": [
       "''"
      ]
     },
     "execution_count": 49,
     "metadata": {},
     "output_type": "execute_result"
    }
   ],
   "source": [
    "app.title(\"OCR for HandWritten character\")\n"
   ]
  },
  {
   "cell_type": "code",
   "execution_count": 50,
   "id": "23103709",
   "metadata": {},
   "outputs": [],
   "source": [
    "app.grid_columnconfigure(0,weight=1)\n",
    "app.grid_rowconfigure(0,weight=1)\n",
    "\n"
   ]
  },
  {
   "cell_type": "code",
   "execution_count": 51,
   "id": "fc789f9b",
   "metadata": {},
   "outputs": [],
   "source": [
    "frame1=customtkinter.CTkFrame(app,width=300,height=300,fg_color=\"transparent\")\n",
    "frame1.grid(row=0,column=0,padx=10,pady=10)"
   ]
  },
  {
   "cell_type": "code",
   "execution_count": 52,
   "id": "acb919e2",
   "metadata": {},
   "outputs": [],
   "source": [
    "label1=customtkinter.CTkLabel(frame1,text=\"Please choose a 28x28 image\",fg_color=\"transparent\",text_color=\"blue\",font=(\"Arial\",20))\n",
    "label1.grid(row=0,column=0,padx=10,pady=10)"
   ]
  },
  {
   "cell_type": "code",
   "execution_count": 53,
   "id": "ce2f8939",
   "metadata": {},
   "outputs": [],
   "source": [
    "button1=customtkinter.CTkButton(frame1,text=\"Choose image\",command=upload_file,corner_radius=15,fg_color=\"blue\")\n",
    "button1.grid(row=1,column=0,padx=10,pady=10)"
   ]
  },
  {
   "cell_type": "code",
   "execution_count": 54,
   "id": "e4537609",
   "metadata": {
    "scrolled": true
   },
   "outputs": [
    {
     "name": "stdout",
     "output_type": "stream",
     "text": [
      "1/1 [==============================] - 0s 92ms/step\n",
      "1/1 [==============================] - 0s 41ms/step\n",
      "1/1 [==============================] - 0s 38ms/step\n",
      "1/1 [==============================] - 0s 50ms/step\n",
      "1/1 [==============================] - 0s 37ms/step\n",
      "1/1 [==============================] - 0s 44ms/step\n",
      "1/1 [==============================] - 0s 40ms/step\n",
      "1/1 [==============================] - 0s 48ms/step\n",
      "1/1 [==============================] - 0s 40ms/step\n",
      "1/1 [==============================] - 0s 40ms/step\n",
      "1/1 [==============================] - 0s 31ms/step\n",
      "1/1 [==============================] - 0s 33ms/step\n",
      "1/1 [==============================] - 0s 38ms/step\n",
      "1/1 [==============================] - 0s 40ms/step\n",
      "1/1 [==============================] - 0s 39ms/step\n",
      "1/1 [==============================] - 0s 51ms/step\n",
      "1/1 [==============================] - 0s 32ms/step\n",
      "1/1 [==============================] - 0s 51ms/step\n",
      "1/1 [==============================] - 0s 50ms/step\n",
      "1/1 [==============================] - 0s 48ms/step\n",
      "1/1 [==============================] - 0s 38ms/step\n",
      "1/1 [==============================] - 0s 40ms/step\n",
      "1/1 [==============================] - 0s 40ms/step\n",
      "1/1 [==============================] - 0s 40ms/step\n",
      "1/1 [==============================] - 0s 50ms/step\n",
      "1/1 [==============================] - 0s 40ms/step\n",
      "1/1 [==============================] - 0s 45ms/step\n"
     ]
    }
   ],
   "source": [
    "app.mainloop()"
   ]
  },
  {
   "cell_type": "code",
   "execution_count": null,
   "id": "120e581f",
   "metadata": {},
   "outputs": [],
   "source": []
  },
  {
   "cell_type": "code",
   "execution_count": null,
   "id": "fc7723a0",
   "metadata": {},
   "outputs": [],
   "source": []
  },
  {
   "cell_type": "code",
   "execution_count": null,
   "id": "fe5bdf13-2dd7-4d8c-9d18-5fb1a3530b9c",
   "metadata": {},
   "outputs": [],
   "source": []
  }
 ],
 "metadata": {
  "kernelspec": {
   "display_name": "Python 3 (ipykernel)",
   "language": "python",
   "name": "python3"
  },
  "language_info": {
   "codemirror_mode": {
    "name": "ipython",
    "version": 3
   },
   "file_extension": ".py",
   "mimetype": "text/x-python",
   "name": "python",
   "nbconvert_exporter": "python",
   "pygments_lexer": "ipython3",
   "version": "3.11.3"
  }
 },
 "nbformat": 4,
 "nbformat_minor": 5
}

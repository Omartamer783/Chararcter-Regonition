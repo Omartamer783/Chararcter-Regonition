{
 "cells": [
  {
   "cell_type": "code",
   "execution_count": 2,
   "id": "d589b595",
   "metadata": {},
   "outputs": [
    {
     "name": "stdout",
     "output_type": "stream",
     "text": [
      "WARNING:tensorflow:From C:\\ProgramData\\Anaconda3\\envs\\py311\\Lib\\site-packages\\keras\\src\\backend.py:1398: The name tf.executing_eagerly_outside_functions is deprecated. Please use tf.compat.v1.executing_eagerly_outside_functions instead.\n",
      "\n",
      "Model: \"Mymodel\"\n",
      "_________________________________________________________________\n",
      " Layer (type)                Output Shape              Param #   \n",
      "=================================================================\n",
      " layer1 (Dense)              (None, 128)               10496     \n",
      "                                                                 \n",
      " layer2 (Dense)              (None, 128)               16512     \n",
      "                                                                 \n",
      " layer3 (Dense)              (None, 26)                3354      \n",
      "                                                                 \n",
      "=================================================================\n",
      "Total params: 30362 (118.60 KB)\n",
      "Trainable params: 30362 (118.60 KB)\n",
      "Non-trainable params: 0 (0.00 Byte)\n",
      "_________________________________________________________________\n",
      "w1 shape:(81, 128) , b1 shape: (128,)\n",
      "w2 shape:(128, 128) , b2 shape: (128,)\n",
      "w3 shape:(128, 26) , b3 shape: (26,)\n",
      "Epoch 1/100\n",
      "WARNING:tensorflow:From C:\\ProgramData\\Anaconda3\\envs\\py311\\Lib\\site-packages\\keras\\src\\utils\\tf_utils.py:492: The name tf.ragged.RaggedTensorValue is deprecated. Please use tf.compat.v1.ragged.RaggedTensorValue instead.\n",
      "\n",
      "WARNING:tensorflow:From C:\\ProgramData\\Anaconda3\\envs\\py311\\Lib\\site-packages\\keras\\src\\engine\\base_layer_utils.py:384: The name tf.executing_eagerly_outside_functions is deprecated. Please use tf.compat.v1.executing_eagerly_outside_functions instead.\n",
      "\n",
      "2220/2220 [==============================] - 3s 1ms/step - loss: 0.9382 - accuracy: 0.7172\n",
      "Epoch 2/100\n",
      "2220/2220 [==============================] - 2s 1ms/step - loss: 0.5508 - accuracy: 0.8220\n",
      "Epoch 3/100\n",
      "2220/2220 [==============================] - 2s 980us/step - loss: 0.4530 - accuracy: 0.8519\n",
      "Epoch 4/100\n",
      "2220/2220 [==============================] - 2s 985us/step - loss: 0.4023 - accuracy: 0.8681\n",
      "Epoch 5/100\n",
      "2220/2220 [==============================] - 2s 1ms/step - loss: 0.3688 - accuracy: 0.8771\n",
      "Epoch 6/100\n",
      "2220/2220 [==============================] - 2s 1ms/step - loss: 0.3440 - accuracy: 0.8852\n",
      "Epoch 7/100\n",
      "2220/2220 [==============================] - 2s 958us/step - loss: 0.3259 - accuracy: 0.8893\n",
      "Epoch 8/100\n",
      "2220/2220 [==============================] - 2s 1ms/step - loss: 0.3098 - accuracy: 0.8946\n",
      "Epoch 9/100\n",
      "2220/2220 [==============================] - 2s 955us/step - loss: 0.2950 - accuracy: 0.9000\n",
      "Epoch 10/100\n",
      "2220/2220 [==============================] - 2s 949us/step - loss: 0.2843 - accuracy: 0.9026\n",
      "Epoch 11/100\n",
      "2220/2220 [==============================] - 2s 950us/step - loss: 0.2740 - accuracy: 0.9044\n",
      "Epoch 12/100\n",
      "2220/2220 [==============================] - 2s 955us/step - loss: 0.2646 - accuracy: 0.9081\n",
      "Epoch 13/100\n",
      "2220/2220 [==============================] - 2s 951us/step - loss: 0.2560 - accuracy: 0.9117\n",
      "Epoch 14/100\n",
      "2220/2220 [==============================] - 2s 949us/step - loss: 0.2482 - accuracy: 0.9139\n",
      "Epoch 15/100\n",
      "2220/2220 [==============================] - 2s 951us/step - loss: 0.2411 - accuracy: 0.9164\n",
      "Epoch 16/100\n",
      "2220/2220 [==============================] - 2s 949us/step - loss: 0.2351 - accuracy: 0.9176\n",
      "Epoch 17/100\n",
      "2220/2220 [==============================] - 2s 991us/step - loss: 0.2271 - accuracy: 0.9205\n",
      "Epoch 18/100\n",
      "2220/2220 [==============================] - 2s 987us/step - loss: 0.2207 - accuracy: 0.9217\n",
      "Epoch 19/100\n",
      "2220/2220 [==============================] - 2s 926us/step - loss: 0.2157 - accuracy: 0.9238\n",
      "Epoch 20/100\n",
      "2220/2220 [==============================] - 2s 950us/step - loss: 0.2097 - accuracy: 0.9247\n",
      "Epoch 21/100\n",
      "2220/2220 [==============================] - 2s 927us/step - loss: 0.2044 - accuracy: 0.9279\n",
      "Epoch 22/100\n",
      "2220/2220 [==============================] - 2s 923us/step - loss: 0.1988 - accuracy: 0.9292\n",
      "Epoch 23/100\n",
      "2220/2220 [==============================] - 2s 928us/step - loss: 0.1938 - accuracy: 0.9316\n",
      "Epoch 24/100\n",
      "2220/2220 [==============================] - 2s 932us/step - loss: 0.1893 - accuracy: 0.9318\n",
      "Epoch 25/100\n",
      "2220/2220 [==============================] - 2s 932us/step - loss: 0.1850 - accuracy: 0.9336\n",
      "Epoch 26/100\n",
      "2220/2220 [==============================] - 2s 930us/step - loss: 0.1801 - accuracy: 0.9348\n",
      "Epoch 27/100\n",
      "2220/2220 [==============================] - 2s 943us/step - loss: 0.1762 - accuracy: 0.9363\n",
      "Epoch 28/100\n",
      "2220/2220 [==============================] - 3s 1ms/step - loss: 0.1719 - accuracy: 0.9379\n",
      "Epoch 29/100\n",
      "2220/2220 [==============================] - 2s 1ms/step - loss: 0.1669 - accuracy: 0.9392\n",
      "Epoch 30/100\n",
      "2220/2220 [==============================] - 2s 958us/step - loss: 0.1646 - accuracy: 0.9395\n",
      "Epoch 31/100\n",
      "2220/2220 [==============================] - 2s 973us/step - loss: 0.1606 - accuracy: 0.9411\n",
      "Epoch 32/100\n",
      "2220/2220 [==============================] - 2s 952us/step - loss: 0.1565 - accuracy: 0.9424\n",
      "Epoch 33/100\n",
      "2220/2220 [==============================] - 2s 932us/step - loss: 0.1518 - accuracy: 0.9447\n",
      "Epoch 34/100\n",
      "2220/2220 [==============================] - 2s 922us/step - loss: 0.1485 - accuracy: 0.9455\n",
      "Epoch 35/100\n",
      "2220/2220 [==============================] - 2s 937us/step - loss: 0.1454 - accuracy: 0.9461\n",
      "Epoch 36/100\n",
      "2220/2220 [==============================] - 2s 936us/step - loss: 0.1420 - accuracy: 0.9468\n",
      "Epoch 37/100\n",
      "2220/2220 [==============================] - 2s 955us/step - loss: 0.1396 - accuracy: 0.9474\n",
      "Epoch 38/100\n",
      "2220/2220 [==============================] - 2s 925us/step - loss: 0.1355 - accuracy: 0.9496\n",
      "Epoch 39/100\n",
      "2220/2220 [==============================] - 2s 927us/step - loss: 0.1331 - accuracy: 0.9506\n",
      "Epoch 40/100\n",
      "2220/2220 [==============================] - 2s 926us/step - loss: 0.1298 - accuracy: 0.9515\n",
      "Epoch 41/100\n",
      "2220/2220 [==============================] - 2s 955us/step - loss: 0.1268 - accuracy: 0.9518\n",
      "Epoch 42/100\n",
      "2220/2220 [==============================] - 2s 1ms/step - loss: 0.1251 - accuracy: 0.9528\n",
      "Epoch 43/100\n",
      "2220/2220 [==============================] - 2s 935us/step - loss: 0.1211 - accuracy: 0.9546\n",
      "Epoch 44/100\n",
      "2220/2220 [==============================] - 2s 941us/step - loss: 0.1178 - accuracy: 0.9551\n",
      "Epoch 45/100\n",
      "2220/2220 [==============================] - 2s 999us/step - loss: 0.1163 - accuracy: 0.9558\n",
      "Epoch 46/100\n",
      "2220/2220 [==============================] - 2s 926us/step - loss: 0.1132 - accuracy: 0.9558\n",
      "Epoch 47/100\n",
      "2220/2220 [==============================] - 2s 879us/step - loss: 0.1109 - accuracy: 0.9574\n",
      "Epoch 48/100\n",
      "2220/2220 [==============================] - 2s 952us/step - loss: 0.1086 - accuracy: 0.9580\n",
      "Epoch 49/100\n",
      "2220/2220 [==============================] - 2s 953us/step - loss: 0.1078 - accuracy: 0.9584\n",
      "Epoch 50/100\n",
      "2220/2220 [==============================] - 2s 890us/step - loss: 0.1053 - accuracy: 0.9589\n",
      "Epoch 51/100\n",
      "2220/2220 [==============================] - 2s 942us/step - loss: 0.1018 - accuracy: 0.9605\n",
      "Epoch 52/100\n",
      "2220/2220 [==============================] - 2s 961us/step - loss: 0.0996 - accuracy: 0.9614\n",
      "Epoch 53/100\n",
      "2220/2220 [==============================] - 2s 941us/step - loss: 0.0979 - accuracy: 0.9620\n",
      "Epoch 54/100\n",
      "2220/2220 [==============================] - 2s 982us/step - loss: 0.0961 - accuracy: 0.9628\n",
      "Epoch 55/100\n",
      "2220/2220 [==============================] - 2s 920us/step - loss: 0.0945 - accuracy: 0.9624\n",
      "Epoch 56/100\n",
      "2220/2220 [==============================] - 2s 1ms/step - loss: 0.0918 - accuracy: 0.9645\n",
      "Epoch 57/100\n",
      "2220/2220 [==============================] - 2s 895us/step - loss: 0.0910 - accuracy: 0.9636\n",
      "Epoch 58/100\n",
      "2220/2220 [==============================] - 2s 877us/step - loss: 0.0884 - accuracy: 0.9649\n",
      "Epoch 59/100\n",
      "2220/2220 [==============================] - 2s 879us/step - loss: 0.0874 - accuracy: 0.9654\n",
      "Epoch 60/100\n",
      "2220/2220 [==============================] - 2s 965us/step - loss: 0.0853 - accuracy: 0.9664\n",
      "Epoch 61/100\n",
      "2220/2220 [==============================] - 2s 974us/step - loss: 0.0827 - accuracy: 0.9669\n",
      "Epoch 62/100\n"
     ]
    },
    {
     "name": "stdout",
     "output_type": "stream",
     "text": [
      "2220/2220 [==============================] - 2s 1ms/step - loss: 0.0822 - accuracy: 0.9663\n",
      "Epoch 63/100\n",
      "2220/2220 [==============================] - 2s 973us/step - loss: 0.0805 - accuracy: 0.9680\n",
      "Epoch 64/100\n",
      "2220/2220 [==============================] - 2s 959us/step - loss: 0.0783 - accuracy: 0.9683\n",
      "Epoch 65/100\n",
      "2220/2220 [==============================] - 2s 1ms/step - loss: 0.0781 - accuracy: 0.9686\n",
      "Epoch 66/100\n",
      "2220/2220 [==============================] - 2s 958us/step - loss: 0.0750 - accuracy: 0.9697\n",
      "Epoch 67/100\n",
      "2220/2220 [==============================] - 2s 937us/step - loss: 0.0749 - accuracy: 0.9700\n",
      "Epoch 68/100\n",
      "2220/2220 [==============================] - 2s 947us/step - loss: 0.0732 - accuracy: 0.9705\n",
      "Epoch 69/100\n",
      "2220/2220 [==============================] - 2s 947us/step - loss: 0.0711 - accuracy: 0.9716\n",
      "Epoch 70/100\n",
      "2220/2220 [==============================] - 2s 936us/step - loss: 0.0715 - accuracy: 0.9709\n",
      "Epoch 71/100\n",
      "2220/2220 [==============================] - 2s 947us/step - loss: 0.0686 - accuracy: 0.9721\n",
      "Epoch 72/100\n",
      "2220/2220 [==============================] - 2s 937us/step - loss: 0.0682 - accuracy: 0.9718\n",
      "Epoch 73/100\n",
      "2220/2220 [==============================] - 2s 934us/step - loss: 0.0666 - accuracy: 0.9738\n",
      "Epoch 74/100\n",
      "2220/2220 [==============================] - 2s 945us/step - loss: 0.0660 - accuracy: 0.9731\n",
      "Epoch 75/100\n",
      "2220/2220 [==============================] - 2s 1ms/step - loss: 0.0643 - accuracy: 0.9737\n",
      "Epoch 76/100\n",
      "2220/2220 [==============================] - 2s 966us/step - loss: 0.0643 - accuracy: 0.9733\n",
      "Epoch 77/100\n",
      "2220/2220 [==============================] - 2s 969us/step - loss: 0.0633 - accuracy: 0.9742\n",
      "Epoch 78/100\n",
      "2220/2220 [==============================] - 2s 959us/step - loss: 0.0616 - accuracy: 0.9745\n",
      "Epoch 79/100\n",
      "2220/2220 [==============================] - 2s 922us/step - loss: 0.0610 - accuracy: 0.9751\n",
      "Epoch 80/100\n",
      "2220/2220 [==============================] - 2s 939us/step - loss: 0.0603 - accuracy: 0.9752\n",
      "Epoch 81/100\n",
      "2220/2220 [==============================] - 2s 997us/step - loss: 0.0598 - accuracy: 0.9755\n",
      "Epoch 82/100\n",
      "2220/2220 [==============================] - 2s 928us/step - loss: 0.0582 - accuracy: 0.9763\n",
      "Epoch 83/100\n",
      "2220/2220 [==============================] - 2s 879us/step - loss: 0.0599 - accuracy: 0.9756\n",
      "Epoch 84/100\n",
      "2220/2220 [==============================] - 2s 878us/step - loss: 0.0559 - accuracy: 0.9770\n",
      "Epoch 85/100\n",
      "2220/2220 [==============================] - 2s 887us/step - loss: 0.0580 - accuracy: 0.9760\n",
      "Epoch 86/100\n",
      "2220/2220 [==============================] - 2s 881us/step - loss: 0.0537 - accuracy: 0.9784\n",
      "Epoch 87/100\n",
      "2220/2220 [==============================] - 2s 878us/step - loss: 0.0551 - accuracy: 0.9769\n",
      "Epoch 88/100\n",
      "2220/2220 [==============================] - 2s 879us/step - loss: 0.0544 - accuracy: 0.9779\n",
      "Epoch 89/100\n",
      "2220/2220 [==============================] - 2s 884us/step - loss: 0.0530 - accuracy: 0.9778\n",
      "Epoch 90/100\n",
      "2220/2220 [==============================] - 2s 1ms/step - loss: 0.0529 - accuracy: 0.9779\n",
      "Epoch 91/100\n",
      "2220/2220 [==============================] - 2s 957us/step - loss: 0.0513 - accuracy: 0.9790\n",
      "Epoch 92/100\n",
      "2220/2220 [==============================] - 2s 950us/step - loss: 0.0525 - accuracy: 0.9786\n",
      "Epoch 93/100\n",
      "2220/2220 [==============================] - 2s 976us/step - loss: 0.0516 - accuracy: 0.9784\n",
      "Epoch 94/100\n",
      "2220/2220 [==============================] - 2s 996us/step - loss: 0.0510 - accuracy: 0.9791\n",
      "Epoch 95/100\n",
      "2220/2220 [==============================] - 2s 985us/step - loss: 0.0490 - accuracy: 0.9799\n",
      "Epoch 96/100\n",
      "2220/2220 [==============================] - 2s 933us/step - loss: 0.0519 - accuracy: 0.9789\n",
      "Epoch 97/100\n",
      "2220/2220 [==============================] - 2s 922us/step - loss: 0.0481 - accuracy: 0.9800\n",
      "Epoch 98/100\n",
      "2220/2220 [==============================] - 2s 948us/step - loss: 0.0488 - accuracy: 0.9796\n",
      "Epoch 99/100\n",
      "2220/2220 [==============================] - 2s 978us/step - loss: 0.0474 - accuracy: 0.9808\n",
      "Epoch 100/100\n",
      "2220/2220 [==============================] - 2s 1ms/step - loss: 0.0476 - accuracy: 0.9808\n",
      "555/555 [==============================] - 1s 879us/step\n",
      "555/555 [==============================] - 1s 771us/step - loss: 0.8620 - accuracy: 0.8808\n"
     ]
    },
    {
     "data": {
      "image/png": "[encoded data removed]",
      "text/plain": [
       "<Figure size 640x480 with 2 Axes>"
      ]
     },
     "metadata": {},
     "output_type": "display_data"
    }
   ],
   "source": [
    "from FinalModel import model"
   ]
  },
  {
   "cell_type": "code",
   "execution_count": 3,
   "id": "a9a11d96",
   "metadata": {},
   "outputs": [],
   "source": [
    "import customtkinter\n",
    "import tkinter as tk\n",
    "from tkinter import filedialog\n",
    "import numpy as np\n",
    "\n",
    "from PIL import Image\n",
    "from skimage import feature,io,exposure\n",
    "import tensorflow as tf\n"
   ]
  },
  {
   "cell_type": "code",
   "execution_count": 4,
   "id": "dabd9f7f",
   "metadata": {},
   "outputs": [],
   "source": [
    "def MakePrediction(img):\n",
    "    prediction=model.predict([img])\n",
    "    prediction_p=tf.nn.softmax(prediction)\n",
    "    \n",
    "    return np.argmax(prediction_p)"
   ]
  },
  {
   "cell_type": "code",
   "execution_count": 6,
   "id": "3d2d9580",
   "metadata": {},
   "outputs": [],
   "source": [
    "\n",
    "\n",
    "def determine_letter(prediction):\n",
    "    letters={i: chr(ord('A') + i) for i in range(26)}\n",
    "    \n",
    "    return letters[prediction]\n",
    "    "
   ]
  },
  {
   "cell_type": "code",
   "execution_count": 7,
   "id": "eef62f84",
   "metadata": {},
   "outputs": [],
   "source": [
    "def extract_feature(image):\n",
    "    hog_image,_=feature.hog(image,visualize=True)\n",
    "    return hog_image"
   ]
  },
  {
   "cell_type": "code",
   "execution_count": 98,
   "id": "ce4c4b80",
   "metadata": {},
   "outputs": [],
   "source": [
    "def upload_file():\n",
    "    file_path = filedialog.askopenfilename()\n",
    "    # Process the uploaded file path or perform any desired actions\n",
    "    if file_path:\n",
    "        image=Image.open(file_path)\n",
    "        \n",
    "        image_array=np.asarray(image)\n",
    "        \n",
    "        \n",
    "        image_array_2d= image_array[:,:,0].reshape((28,28))\n",
    "        \n",
    "        \n",
    "        hog_image=extract_feature(image_array_2d)\n",
    "        \n",
    "        hog_image=hog_image.reshape((1,81))\n",
    "        \n",
    "        \n",
    "        \n",
    "        prediction=MakePrediction(hog_image)\n",
    "        \n",
    "        \n",
    "        predicted_letter=determine_letter(prediction)\n",
    "        \n",
    "        top_window=customtkinter.CTkToplevel(app)\n",
    "        \n",
    "        top_window.grid_columnconfigure(0,weight=1)\n",
    "        top_window.grid_rowconfigure(0,weight=1)\n",
    "        \n",
    "        top_window.title(\"The Pridiction Of a Model\")\n",
    "        \n",
    "        \n",
    "        screen_width=app.winfo_screenwidth()\n",
    "        screen_height=app.winfo_screenheight()\n",
    "\n",
    "        w=350\n",
    "        h=200\n",
    "\n",
    "        a=(screen_width/2)-(w/2)\n",
    "        b=(screen_height/2)-(h/2)\n",
    "\n",
    "\n",
    "        top_window.geometry(\"%dx%d+%d+%d\" %(w,h,a,b))\n",
    "        \n",
    "        label2=customtkinter.CTkLabel(top_window,text=f\"The Character in image is {predicted_letter}\",text_color=\"blue\",fg_color=\"transparent\",font=(\"Arial\",22))\n",
    "        label2.grid(row=0,column=0,padx=10,pady=10)\n",
    "                \n",
    "        top_window.attributes('-topmost', 'true')"
   ]
  },
  {
   "cell_type": "code",
   "execution_count": 117,
   "id": "74938ea2",
   "metadata": {},
   "outputs": [],
   "source": [
    "app=customtkinter.CTk()"
   ]
  },
  {
   "cell_type": "code",
   "execution_count": 118,
   "id": "34f7f618",
   "metadata": {},
   "outputs": [],
   "source": [
    "customtkinter.set_appearance_mode(\"dark\")\n",
    "customtkinter.set_default_color_theme(\"dark-blue\")"
   ]
  },
  {
   "cell_type": "code",
   "execution_count": 119,
   "id": "c7827ca6",
   "metadata": {},
   "outputs": [],
   "source": [
    "screen_width=app.winfo_screenwidth()\n",
    "screen_height=app.winfo_screenheight()\n",
    "\n",
    "w=500\n",
    "h=500\n",
    "\n",
    "a=(screen_width/2)-(w/2)\n",
    "b=(screen_height/2)-(h/2)\n",
    "\n",
    "\n",
    "app.geometry(\"%dx%d+%d+%d\" %(w,h,a,b))"
   ]
  },
  {
   "cell_type": "code",
   "execution_count": 120,
   "id": "0afac87a",
   "metadata": {},
   "outputs": [
    {
     "data": {
      "text/plain": [
       "''"
      ]
     },
     "execution_count": 120,
     "metadata": {},
     "output_type": "execute_result"
    }
   ],
   "source": [
    "app.title(\"OCR for HandWritten character\")\n"
   ]
  },
  {
   "cell_type": "code",
   "execution_count": 121,
   "id": "23103709",
   "metadata": {},
   "outputs": [],
   "source": [
    "app.grid_columnconfigure(0,weight=1)\n",
    "app.grid_rowconfigure(0,weight=1)\n",
    "\n"
   ]
  },
  {
   "cell_type": "code",
   "execution_count": 122,
   "id": "fc789f9b",
   "metadata": {},
   "outputs": [],
   "source": [
    "frame1=customtkinter.CTkFrame(app,width=300,height=300,fg_color=\"transparent\")\n",
    "frame1.grid(row=0,column=0,padx=10,pady=10)"
   ]
  },
  {
   "cell_type": "code",
   "execution_count": 123,
   "id": "acb919e2",
   "metadata": {},
   "outputs": [],
   "source": [
    "label1=customtkinter.CTkLabel(frame1,text=\"Please choose a 28x28 image\",fg_color=\"transparent\",text_color=\"blue\",font=(\"Arial\",20))\n",
    "label1.grid(row=0,column=0,padx=10,pady=10)"
   ]
  },
  {
   "cell_type": "code",
   "execution_count": 124,
   "id": "ce2f8939",
   "metadata": {},
   "outputs": [],
   "source": [
    "button1=customtkinter.CTkButton(frame1,text=\"Choose image\",command=upload_file,corner_radius=15,fg_color=\"blue\")\n",
    "button1.grid(row=1,column=0,padx=10,pady=10)"
   ]
  },
  {
   "cell_type": "code",
   "execution_count": 125,
   "id": "e4537609",
   "metadata": {
    "scrolled": true
   },
   "outputs": [
    {
     "name": "stdout",
     "output_type": "stream",
     "text": [
      "1/1 [==============================] - 0s 29ms/step\n",
      "1/1 [==============================] - 0s 22ms/step\n",
      "1/1 [==============================] - 0s 28ms/step\n",
      "1/1 [==============================] - 0s 23ms/step\n",
      "1/1 [==============================] - 0s 22ms/step\n",
      "1/1 [==============================] - 0s 20ms/step\n",
      "1/1 [==============================] - 0s 25ms/step\n",
      "1/1 [==============================] - 0s 17ms/step\n"
     ]
    }
   ],
   "source": [
    "app.mainloop()\n"
   ]
  },
  {
   "cell_type": "code",
   "execution_count": null,
   "id": "120e581f",
   "metadata": {},
   "outputs": [],
   "source": []
  },
  {
   "cell_type": "code",
   "execution_count": null,
   "id": "fc7723a0",
   "metadata": {},
   "outputs": [],
   "source": []
  }
 ],
 "metadata": {
  "kernelspec": {
   "display_name": "Python 3 (ipykernel)",
   "language": "python",
   "name": "python3"
  },
  "language_info": {
   "codemirror_mode": {
    "name": "ipython",
    "version": 3
   },
   "file_extension": ".py",
   "mimetype": "text/x-python",
   "name": "python",
   "nbconvert_exporter": "python",
   "pygments_lexer": "ipython3",
   "version": "3.11.5"
  }
 },
 "nbformat": 4,
 "nbformat_minor": 5
}

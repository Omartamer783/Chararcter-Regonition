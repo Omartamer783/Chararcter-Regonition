{
 "cells": [
  {
   "cell_type": "markdown",
   "id": "39804614",
   "metadata": {},
   "source": [
    "# imports"
   ]
  },
  {
   "cell_type": "code",
   "execution_count": 3,
   "id": "586a473a",
   "metadata": {},
   "outputs": [],
   "source": [
    "import numpy as np \n",
    "import matplotlib.pyplot as plt\n",
    "import pandas as pd\n",
    "\n",
    "import tensorflow as tf\n",
    "from tensorflow.keras.layers import Dense\n",
    "from tensorflow.keras.models import Sequential\n",
    "from tensorflow.keras.optimizers import Adam\n",
    "from tensorflow.keras.losses import SparseCategoricalCrossentropy\n",
    "\n",
    "from sklearn.model_selection import train_test_split\n",
    "from skimage import feature,color,io,exposure\n",
    "\n",
    "\n",
    "%matplotlib inline"
   ]
  },
  {
   "cell_type": "markdown",
   "id": "46fe4bd2",
   "metadata": {},
   "source": [
    "# Load data"
   ]
  },
  {
   "cell_type": "code",
   "execution_count": 4,
   "id": "de100d78",
   "metadata": {},
   "outputs": [],
   "source": [
    "letter_images=pd.read_csv(\"emnist-letters-train.csv\")"
   ]
  },
  {
   "cell_type": "code",
   "execution_count": 5,
   "id": "f6c2d724",
   "metadata": {},
   "outputs": [
    {
     "data": {
      "text/plain": [
       "(0, 25)"
      ]
     },
     "execution_count": 5,
     "metadata": {},
     "output_type": "execute_result"
    }
   ],
   "source": [
    "letter_images.iloc[:,0]=letter_images.iloc[:,0]-1\n",
    "letter_images.iloc[:,0].min(),letter_images.iloc[:,0].max()"
   ]
  },
  {
   "cell_type": "code",
   "execution_count": 6,
   "id": "9af7c414",
   "metadata": {},
   "outputs": [],
   "source": [
    "X=letter_images.iloc[:,1:].values\n",
    "y=letter_images.iloc[:,0].values"
   ]
  },
  {
   "cell_type": "code",
   "execution_count": 7,
   "id": "5ca672c5",
   "metadata": {},
   "outputs": [
    {
     "data": {
      "text/plain": [
       "((88799, 784), (88799,))"
      ]
     },
     "execution_count": 7,
     "metadata": {},
     "output_type": "execute_result"
    }
   ],
   "source": [
    "X.shape,y.shape"
   ]
  },
  {
   "cell_type": "markdown",
   "id": "67d702b9",
   "metadata": {},
   "source": [
    "# split data"
   ]
  },
  {
   "cell_type": "code",
   "execution_count": 8,
   "id": "d2e21e76",
   "metadata": {},
   "outputs": [],
   "source": [
    "X_train,X_test,y_train,y_test=train_test_split(X,y,test_size=0.20,random_state=42,stratify=y,shuffle=True)"
   ]
  },
  {
   "cell_type": "code",
   "execution_count": 12,
   "id": "fd22e079",
   "metadata": {},
   "outputs": [
    {
     "data": {
      "text/plain": [
       "((71039, 784),\n",
       " (71039,),\n",
       " array([[  0,   0,   0,   0,   0,   0,   0,   0,   0,   0,   0,   0,   0,\n",
       "           0,   0,   0,   0,   0,   0,   0,   0,   0,   0,   0,   0,   0,\n",
       "           0,   0],\n",
       "        [  0,   0,   0,   0,   0,   0,   0,   0,   0,   0,   0,   0,   0,\n",
       "           0,   0,   0,   0,   4,   4,   4,   4,   4,   4,   0,   0,   0,\n",
       "           0,   0],\n",
       "        [  0,   0,   0,   0,   0,   0,   0,   0,   0,   0,   0,   0,   0,\n",
       "           2,  21,  37,  51, 114, 127, 127, 127, 127, 113,  32,   0,   0,\n",
       "           0,   0],\n",
       "        [  0,   0,   0,   0,   0,   0,   0,   4,   9,  32,  37,  37,  39,\n",
       "          82, 172, 215, 222, 245, 250, 250, 250, 250, 241, 113,   4,   0,\n",
       "           0,   0],\n",
       "        [  0,   0,   0,   0,   0,   1,  33, 113, 140, 203, 217, 217, 217,\n",
       "         233, 252, 254, 254, 254, 254, 255, 255, 254, 249, 125,   4,   0,\n",
       "           0,   0],\n",
       "        [  0,   0,   0,   0,   0,  20, 158, 243, 250, 254, 254, 254, 254,\n",
       "         254, 254, 255, 254, 254, 254, 252, 250, 249, 218,  77,   2,   0,\n",
       "           0,   0],\n",
       "        [  0,   0,   0,   0,   1,  52, 220, 254, 254, 255, 255, 255, 254,\n",
       "         254, 252, 250, 250, 245, 220, 172, 129, 125,  77,   8,   0,   0,\n",
       "           0,   0],\n",
       "        [  0,   0,   0,   0,  22, 159, 247, 254, 254, 254, 250, 250, 249,\n",
       "         233, 172, 129, 127, 114,  50,  21,   5,   4,   2,   0,   0,   0,\n",
       "           0,   0],\n",
       "        [  0,   0,   0,   2,  81, 232, 254, 254, 236, 204, 141, 127, 125,\n",
       "          82,  21,   5,   4,   4,   0,   0,   0,   0,   0,   0,   0,   0,\n",
       "           0,   0],\n",
       "        [  0,   0,   0,   2,  77, 218, 253, 252, 193, 133, 128, 114,  51,\n",
       "          37,   8,   0,   0,   0,   0,   0,   0,   0,   0,   0,   0,   0,\n",
       "           0,   0],\n",
       "        [  0,   0,   0,   0,   8,  90, 207, 245, 251, 250, 250, 245, 222,\n",
       "         215, 127,  50,  21,   3,   0,   0,   0,   0,   0,   0,   0,   0,\n",
       "           0,   0],\n",
       "        [  0,   0,   0,   0,   0,   7,  46, 128, 220, 249, 250, 254, 254,\n",
       "         254, 246, 220, 170,  83,  22,   1,   0,   0,   0,   0,   0,   0,\n",
       "           0,   0],\n",
       "        [  0,   0,   0,   0,   0,   0,   0,  10,  77, 125, 140, 204, 233,\n",
       "         249, 254, 254, 251, 232, 154,  20,   0,   0,   0,   0,   0,   0,\n",
       "           0,   0],\n",
       "        [  0,   0,   0,   0,   0,   0,   0,   0,   2,   4,   9,  34,  82,\n",
       "         127, 224, 254, 254, 254, 215,  37,   0,   0,   0,   0,   0,   0,\n",
       "           0,   0],\n",
       "        [  0,   0,   0,   0,   0,   0,   0,   0,   0,   0,   0,   0,   4,\n",
       "          16, 191, 253, 254, 253, 202,  32,   0,   0,   0,   0,   0,   0,\n",
       "           0,   0],\n",
       "        [  0,   0,   0,   0,   0,   0,   0,   0,   0,   0,   0,   3,  65,\n",
       "         139, 246, 254, 251, 218,  90,   7,   0,   0,   0,   0,   0,   0,\n",
       "           0,   0],\n",
       "        [  0,   0,   0,   0,   0,   0,   0,   0,   0,   0,   0,  34, 174,\n",
       "         248, 253, 232, 171,  79,   8,   0,   0,   0,   0,   0,   0,   0,\n",
       "           0,   0],\n",
       "        [  0,   0,   0,   0,   0,   0,   0,   0,   0,   2,  24, 131, 244,\n",
       "         254, 219,  95,  22,   3,   0,   0,   0,   0,   0,   0,   0,   0,\n",
       "           0,   0],\n",
       "        [  0,   0,   0,   0,   0,   0,   0,   0,   4,  67, 170, 234, 253,\n",
       "         244,  91,   9,   0,   0,   0,   0,   0,   0,   0,   0,   0,   0,\n",
       "           0,   0],\n",
       "        [  0,   0,   0,   0,   0,   0,   8,  79, 171, 234, 253, 234, 132,\n",
       "          46,   1,   0,   0,   0,   0,   0,   0,   0,   0,   0,   0,   0,\n",
       "           0,   0],\n",
       "        [  0,   0,   0,   0,   0,   7,  90, 218, 251, 254, 248, 180,  60,\n",
       "          38,  37,  37,  37,  37,  37,  37,  37,  21,   3,   0,   0,   0,\n",
       "           0,   0],\n",
       "        [  0,   0,   0,   0,   1,  47, 207, 253, 254, 254, 242, 206, 217,\n",
       "         217, 217, 217, 217, 217, 217, 217, 215, 170,  78,   7,   0,   0,\n",
       "           0,   0],\n",
       "        [  0,   0,   0,   0,  22, 159, 247, 254, 255, 254, 254, 253, 254,\n",
       "         254, 254, 254, 254, 254, 254, 254, 254, 251, 201,  32,   0,   0,\n",
       "           0,   0],\n",
       "        [  0,   0,   0,   1,  68, 225, 254, 254, 254, 254, 250, 250, 250,\n",
       "         250, 250, 250, 250, 250, 250, 252, 254, 253, 202,  32,   0,   0,\n",
       "           0,   0],\n",
       "        [  0,   0,   0,   0,  32, 157, 215, 217, 217, 203, 140, 127, 127,\n",
       "         127, 127, 127, 127, 127, 129, 188, 243, 207,  90,   7,   0,   0,\n",
       "           0,   0],\n",
       "        [  0,   0,   0,   0,   1,  20,  37,  37,  37,  32,   9,   4,   4,\n",
       "           4,   4,   4,   4,   4,   6,  66, 111,  46,   7,   0,   0,   0,\n",
       "           0,   0],\n",
       "        [  0,   0,   0,   0,   0,   0,   0,   0,   0,   0,   0,   0,   0,\n",
       "           0,   0,   0,   0,   0,   0,   2,   3,   0,   0,   0,   0,   0,\n",
       "           0,   0],\n",
       "        [  0,   0,   0,   0,   0,   0,   0,   0,   0,   0,   0,   0,   0,\n",
       "           0,   0,   0,   0,   0,   0,   0,   0,   0,   0,   0,   0,   0,\n",
       "           0,   0]], dtype=int64))"
      ]
     },
     "execution_count": 12,
     "metadata": {},
     "output_type": "execute_result"
    }
   ],
   "source": [
    "X_train.shape,y_train.shape,X_train[0].reshape((28,28))"
   ]
  },
  {
   "cell_type": "markdown",
   "id": "3c8bf680",
   "metadata": {},
   "source": [
    "# extract features"
   ]
  },
  {
   "cell_type": "code",
   "execution_count": 14,
   "id": "328858c9",
   "metadata": {},
   "outputs": [],
   "source": [
    "train_feature=[]\n",
    "test_feature=[]\n",
    "\n",
    "for train_img in X_train:\n",
    "    train_img=train_img.reshape((28,28))\n",
    "    \n",
    "    hog_train_img,_=feature.hog(train_img,visualize=True)\n",
    "    train_feature.append(hog_train_img)\n",
    "    \n",
    "for test_img in X_test:\n",
    "    test_img=test_img.reshape((28,28))\n",
    "    \n",
    "    hog_test_img,_=feature.hog(test_img,visualize=True)\n",
    "    test_feature.append(hog_test_img)\n",
    "    "
   ]
  },
  {
   "cell_type": "markdown",
   "id": "1060af36",
   "metadata": {},
   "source": [
    "# example"
   ]
  },
  {
   "cell_type": "code",
   "execution_count": 15,
   "id": "eef39e4f",
   "metadata": {},
   "outputs": [
    {
     "data": {
      "text/plain": [
       "Text(0.5, 1.0, 'hog image')"
      ]
     },
     "execution_count": 15,
     "metadata": {},
     "output_type": "execute_result"
    },
    {
     "data": {
      "image/png": "[encoded data removed]",
      "text/plain": [
       "<Figure size 640x480 with 2 Axes>"
      ]
     },
     "metadata": {},
     "output_type": "display_data"
    }
   ],
   "source": [
    "gray_image=X_train[0].reshape((28,28))\n",
    "\n",
    "hog_feature,hog_img= feature.hog(gray_image,visualize=True)\n",
    "\n",
    "plt.subplot(1,2,1)\n",
    "plt.axis(\"off\")\n",
    "plt.imshow(gray_image,cmap=\"gray\")\n",
    "plt.title(\"original image\")\n",
    "\n",
    "plt.subplot(1,2,2)\n",
    "plt.axis(\"off\")\n",
    "plt.imshow(hog_img,cmap=\"gray\")\n",
    "plt.title(\"hog image\")"
   ]
  },
  {
   "cell_type": "code",
   "execution_count": 16,
   "id": "c49ebc2d",
   "metadata": {},
   "outputs": [],
   "source": [
    "X_train_img=np.array(train_feature)\n",
    "X_test_img=np.array(test_feature)"
   ]
  },
  {
   "cell_type": "code",
   "execution_count": 18,
   "id": "d5647c61",
   "metadata": {},
   "outputs": [
    {
     "data": {
      "text/plain": [
       "((71039, 81),\n",
       " (17760, 81),\n",
       " (71039,),\n",
       " (17760,),\n",
       " array([0.05155334, 0.19415064, 0.05275564, 0.03815856, 0.02209135,\n",
       "        0.        , 0.        , 0.        , 0.        , 0.00029144,\n",
       "        0.        , 0.        , 0.27890324, 0.27890324, 0.        ,\n",
       "        0.        , 0.        , 0.        , 0.05621193, 0.03579691,\n",
       "        0.0513144 , 0.27890324, 0.27890324, 0.03720735, 0.05141763,\n",
       "        0.0370999 , 0.        , 0.08828985, 0.        , 0.        ,\n",
       "        0.        , 0.00102005, 0.04224796, 0.20652768, 0.03295378,\n",
       "        0.04565095, 0.07160827, 0.02972781, 0.12953769, 0.09232473,\n",
       "        0.20324273, 0.27890324, 0.15482825, 0.03226252, 0.02185222,\n",
       "        0.05781302, 0.04621529, 0.07631305, 0.01318361, 0.05398086,\n",
       "        0.10490416, 0.12485438, 0.00645468, 0.08681119, 0.04828921,\n",
       "        0.18842894, 0.13547496, 0.        , 0.01808427, 0.        ,\n",
       "        0.0062931 , 0.        , 0.02710585, 0.04418358, 0.11880811,\n",
       "        0.27890324, 0.10739421, 0.27890324, 0.01124422, 0.        ,\n",
       "        0.02411643, 0.00704909, 0.02966041, 0.03603842, 0.10837544,\n",
       "        0.04495486, 0.27890324, 0.07049902, 0.09073399, 0.04895927,\n",
       "        0.0295158 ]))"
      ]
     },
     "execution_count": 18,
     "metadata": {},
     "output_type": "execute_result"
    }
   ],
   "source": [
    "X_train_img.shape,X_test_img.shape,y_train.shape,y_test.shape,X_train_img[0]"
   ]
  },
  {
   "cell_type": "markdown",
   "id": "feade432",
   "metadata": {},
   "source": [
    "# Model"
   ]
  },
  {
   "cell_type": "code",
   "execution_count": 21,
   "id": "fca592c6",
   "metadata": {},
   "outputs": [],
   "source": [
    "model= Sequential([\n",
    "    tf.keras.Input(shape=(81,)),\n",
    "    Dense(units=128,activation=\"relu\",name=\"layer1\"),\n",
    "    Dense(units=128,activation=\"relu\",name=\"layer2\"),\n",
    "    Dense(units=26,activation=\"linear\",name=\"layer3\")\n",
    "],name=\"Mymodel\"\n",
    ")"
   ]
  },
  {
   "cell_type": "markdown",
   "id": "919f6a51",
   "metadata": {},
   "source": [
    "# Model summary"
   ]
  },
  {
   "cell_type": "code",
   "execution_count": 22,
   "id": "8068a4a4",
   "metadata": {},
   "outputs": [
    {
     "name": "stdout",
     "output_type": "stream",
     "text": [
      "Model: \"Mymodel\"\n",
      "_________________________________________________________________\n",
      " Layer (type)                Output Shape              Param #   \n",
      "=================================================================\n",
      " layer1 (Dense)              (None, 128)               10496     \n",
      "                                                                 \n",
      " layer2 (Dense)              (None, 128)               16512     \n",
      "                                                                 \n",
      " layer3 (Dense)              (None, 26)                3354      \n",
      "                                                                 \n",
      "=================================================================\n",
      "Total params: 30362 (118.60 KB)\n",
      "Trainable params: 30362 (118.60 KB)\n",
      "Non-trainable params: 0 (0.00 Byte)\n",
      "_________________________________________________________________\n"
     ]
    }
   ],
   "source": [
    "model.summary()"
   ]
  },
  {
   "cell_type": "markdown",
   "id": "b735edda",
   "metadata": {},
   "source": [
    "# shape of parameters"
   ]
  },
  {
   "cell_type": "code",
   "execution_count": 23,
   "id": "193236a6",
   "metadata": {},
   "outputs": [],
   "source": [
    "[layer1,layer2,layer3]=model.layers"
   ]
  },
  {
   "cell_type": "code",
   "execution_count": 24,
   "id": "b1e3a711",
   "metadata": {},
   "outputs": [
    {
     "name": "stdout",
     "output_type": "stream",
     "text": [
      "w1 shape:(81, 128) , b1 shape: (128,)\n",
      "w2 shape:(128, 128) , b2 shape: (128,)\n",
      "w3 shape:(128, 26) , b3 shape: (26,)\n"
     ]
    }
   ],
   "source": [
    "w1,b1=layer1.get_weights()\n",
    "w2,b2=layer2.get_weights()\n",
    "\n",
    "w3,b3=layer3.get_weights()\n",
    "\n",
    "print(f\"w1 shape:{w1.shape} , b1 shape: {b1.shape}\")\n",
    "print(f\"w2 shape:{w2.shape} , b2 shape: {b2.shape}\")\n",
    "print(f\"w3 shape:{w3.shape} , b3 shape: {b3.shape}\")"
   ]
  },
  {
   "cell_type": "markdown",
   "id": "b26d6270",
   "metadata": {},
   "source": [
    "# compiling (loss function)"
   ]
  },
  {
   "cell_type": "code",
   "execution_count": 25,
   "id": "8c2cde72",
   "metadata": {},
   "outputs": [],
   "source": [
    "model.compile(\n",
    "    loss=SparseCategoricalCrossentropy(from_logits=True),\n",
    "    optimizer=Adam(learning_rate=0.001),\n",
    "    metrics=[\"accuracy\"]\n",
    ")"
   ]
  },
  {
   "cell_type": "code",
   "execution_count": 26,
   "id": "d7e2c6a8",
   "metadata": {},
   "outputs": [
    {
     "name": "stdout",
     "output_type": "stream",
     "text": [
      "Epoch 1/100\n",
      "2220/2220 [==============================] - 3s 948us/step - loss: 0.9415 - accuracy: 0.7160\n",
      "Epoch 2/100\n",
      "2220/2220 [==============================] - 2s 925us/step - loss: 0.5581 - accuracy: 0.8190\n",
      "Epoch 3/100\n",
      "2220/2220 [==============================] - 2s 951us/step - loss: 0.4638 - accuracy: 0.8477\n",
      "Epoch 4/100\n",
      "2220/2220 [==============================] - 2s 983us/step - loss: 0.4120 - accuracy: 0.8645\n",
      "Epoch 5/100\n",
      "2220/2220 [==============================] - 2s 992us/step - loss: 0.3783 - accuracy: 0.8743\n",
      "Epoch 6/100\n",
      "2220/2220 [==============================] - 2s 969us/step - loss: 0.3537 - accuracy: 0.8816\n",
      "Epoch 7/100\n",
      "2220/2220 [==============================] - 2s 955us/step - loss: 0.3334 - accuracy: 0.8871\n",
      "Epoch 8/100\n",
      "2220/2220 [==============================] - 2s 970us/step - loss: 0.3163 - accuracy: 0.8930\n",
      "Epoch 9/100\n",
      "2220/2220 [==============================] - 2s 960us/step - loss: 0.3024 - accuracy: 0.8966\n",
      "Epoch 10/100\n",
      "2220/2220 [==============================] - 2s 959us/step - loss: 0.2906 - accuracy: 0.9005\n",
      "Epoch 11/100\n",
      "2220/2220 [==============================] - 2s 946us/step - loss: 0.2792 - accuracy: 0.9057\n",
      "Epoch 12/100\n",
      "2220/2220 [==============================] - 2s 949us/step - loss: 0.2688 - accuracy: 0.9082\n",
      "Epoch 13/100\n",
      "2220/2220 [==============================] - 2s 925us/step - loss: 0.2601 - accuracy: 0.9109\n",
      "Epoch 14/100\n",
      "2220/2220 [==============================] - 2s 925us/step - loss: 0.2519 - accuracy: 0.9138\n",
      "Epoch 15/100\n",
      "2220/2220 [==============================] - 2s 918us/step - loss: 0.2447 - accuracy: 0.9154\n",
      "Epoch 16/100\n",
      "2220/2220 [==============================] - 2s 927us/step - loss: 0.2373 - accuracy: 0.9170\n",
      "Epoch 17/100\n",
      "2220/2220 [==============================] - 2s 930us/step - loss: 0.2300 - accuracy: 0.9193\n",
      "Epoch 18/100\n",
      "2220/2220 [==============================] - 2s 930us/step - loss: 0.2234 - accuracy: 0.9221\n",
      "Epoch 19/100\n",
      "2220/2220 [==============================] - 2s 922us/step - loss: 0.2174 - accuracy: 0.9227\n",
      "Epoch 20/100\n",
      "2220/2220 [==============================] - 2s 918us/step - loss: 0.2122 - accuracy: 0.9254\n",
      "Epoch 21/100\n",
      "2220/2220 [==============================] - 2s 916us/step - loss: 0.2062 - accuracy: 0.9273\n",
      "Epoch 22/100\n",
      "2220/2220 [==============================] - 2s 920us/step - loss: 0.2004 - accuracy: 0.9293\n",
      "Epoch 23/100\n",
      "2220/2220 [==============================] - 2s 926us/step - loss: 0.1962 - accuracy: 0.9297\n",
      "Epoch 24/100\n",
      "2220/2220 [==============================] - 2s 927us/step - loss: 0.1895 - accuracy: 0.9325\n",
      "Epoch 25/100\n",
      "2220/2220 [==============================] - 2s 912us/step - loss: 0.1853 - accuracy: 0.9339\n",
      "Epoch 26/100\n",
      "2220/2220 [==============================] - 2s 911us/step - loss: 0.1812 - accuracy: 0.9343\n",
      "Epoch 27/100\n",
      "2220/2220 [==============================] - 2s 1ms/step - loss: 0.1763 - accuracy: 0.9364\n",
      "Epoch 28/100\n",
      "2220/2220 [==============================] - 2s 987us/step - loss: 0.1731 - accuracy: 0.9378\n",
      "Epoch 29/100\n",
      "2220/2220 [==============================] - 2s 953us/step - loss: 0.1675 - accuracy: 0.9391\n",
      "Epoch 30/100\n",
      "2220/2220 [==============================] - 2s 982us/step - loss: 0.1656 - accuracy: 0.9403\n",
      "Epoch 31/100\n",
      "2220/2220 [==============================] - 2s 997us/step - loss: 0.1608 - accuracy: 0.9412\n",
      "Epoch 32/100\n",
      "2220/2220 [==============================] - 2s 998us/step - loss: 0.1572 - accuracy: 0.9417\n",
      "Epoch 33/100\n",
      "2220/2220 [==============================] - 2s 968us/step - loss: 0.1526 - accuracy: 0.9440\n",
      "Epoch 34/100\n",
      "2220/2220 [==============================] - 2s 967us/step - loss: 0.1491 - accuracy: 0.9451\n",
      "Epoch 35/100\n",
      "2220/2220 [==============================] - 2s 953us/step - loss: 0.1458 - accuracy: 0.9464\n",
      "Epoch 36/100\n",
      "2220/2220 [==============================] - 2s 953us/step - loss: 0.1438 - accuracy: 0.9468\n",
      "Epoch 37/100\n",
      "2220/2220 [==============================] - 2s 918us/step - loss: 0.1395 - accuracy: 0.9482\n",
      "Epoch 38/100\n",
      "2220/2220 [==============================] - 2s 922us/step - loss: 0.1366 - accuracy: 0.9494\n",
      "Epoch 39/100\n",
      "2220/2220 [==============================] - 2s 924us/step - loss: 0.1333 - accuracy: 0.9509\n",
      "Epoch 40/100\n",
      "2220/2220 [==============================] - 2s 924us/step - loss: 0.1301 - accuracy: 0.9508\n",
      "Epoch 41/100\n",
      "2220/2220 [==============================] - 2s 945us/step - loss: 0.1263 - accuracy: 0.9527\n",
      "Epoch 42/100\n",
      "2220/2220 [==============================] - 2s 928us/step - loss: 0.1246 - accuracy: 0.9521\n",
      "Epoch 43/100\n",
      "2220/2220 [==============================] - 2s 919us/step - loss: 0.1221 - accuracy: 0.9535\n",
      "Epoch 44/100\n",
      "2220/2220 [==============================] - 2s 919us/step - loss: 0.1180 - accuracy: 0.9556\n",
      "Epoch 45/100\n",
      "2220/2220 [==============================] - 2s 920us/step - loss: 0.1161 - accuracy: 0.9559\n",
      "Epoch 46/100\n",
      "2220/2220 [==============================] - 2s 920us/step - loss: 0.1141 - accuracy: 0.9561\n",
      "Epoch 47/100\n",
      "2220/2220 [==============================] - 2s 917us/step - loss: 0.1106 - accuracy: 0.9580\n",
      "Epoch 48/100\n",
      "2220/2220 [==============================] - 2s 925us/step - loss: 0.1093 - accuracy: 0.9580\n",
      "Epoch 49/100\n",
      "2220/2220 [==============================] - 2s 918us/step - loss: 0.1058 - accuracy: 0.9597\n",
      "Epoch 50/100\n",
      "2220/2220 [==============================] - 2s 910us/step - loss: 0.1051 - accuracy: 0.9587\n",
      "Epoch 51/100\n",
      "2220/2220 [==============================] - 2s 912us/step - loss: 0.1027 - accuracy: 0.9602\n",
      "Epoch 52/100\n",
      "2220/2220 [==============================] - 2s 910us/step - loss: 0.0999 - accuracy: 0.9610\n",
      "Epoch 53/100\n",
      "2220/2220 [==============================] - 2s 941us/step - loss: 0.0993 - accuracy: 0.9617\n",
      "Epoch 54/100\n",
      "2220/2220 [==============================] - 2s 924us/step - loss: 0.0942 - accuracy: 0.9628\n",
      "Epoch 55/100\n",
      "2220/2220 [==============================] - 2s 930us/step - loss: 0.0944 - accuracy: 0.9635\n",
      "Epoch 56/100\n",
      "2220/2220 [==============================] - 2s 937us/step - loss: 0.0916 - accuracy: 0.9647\n",
      "Epoch 57/100\n",
      "2220/2220 [==============================] - 2s 928us/step - loss: 0.0907 - accuracy: 0.9634\n",
      "Epoch 58/100\n",
      "2220/2220 [==============================] - 2s 926us/step - loss: 0.0883 - accuracy: 0.9650\n",
      "Epoch 59/100\n",
      "2220/2220 [==============================] - 2s 963us/step - loss: 0.0871 - accuracy: 0.9650\n",
      "Epoch 60/100\n",
      "2220/2220 [==============================] - 2s 1ms/step - loss: 0.0838 - accuracy: 0.9674\n",
      "Epoch 61/100\n",
      "2220/2220 [==============================] - 2s 998us/step - loss: 0.0836 - accuracy: 0.9663\n",
      "Epoch 62/100\n",
      "2220/2220 [==============================] - 2s 1ms/step - loss: 0.0811 - accuracy: 0.9676\n",
      "Epoch 63/100\n",
      "2220/2220 [==============================] - 2s 1ms/step - loss: 0.0812 - accuracy: 0.9675\n",
      "Epoch 64/100\n",
      "2220/2220 [==============================] - 2s 942us/step - loss: 0.0797 - accuracy: 0.9682\n",
      "Epoch 65/100\n",
      "2220/2220 [==============================] - 2s 921us/step - loss: 0.0768 - accuracy: 0.9688\n",
      "Epoch 66/100\n",
      "2220/2220 [==============================] - 2s 927us/step - loss: 0.0755 - accuracy: 0.9693\n",
      "Epoch 67/100\n",
      "2220/2220 [==============================] - 2s 914us/step - loss: 0.0749 - accuracy: 0.9701\n",
      "Epoch 68/100\n",
      "2220/2220 [==============================] - 2s 919us/step - loss: 0.0742 - accuracy: 0.9704\n",
      "Epoch 69/100\n",
      "2220/2220 [==============================] - 2s 922us/step - loss: 0.0731 - accuracy: 0.9702\n",
      "Epoch 70/100\n",
      "2220/2220 [==============================] - 2s 912us/step - loss: 0.0691 - accuracy: 0.9729\n",
      "Epoch 71/100\n",
      "2220/2220 [==============================] - 2s 920us/step - loss: 0.0700 - accuracy: 0.9714\n",
      "Epoch 72/100\n",
      "2220/2220 [==============================] - 2s 918us/step - loss: 0.0684 - accuracy: 0.9723\n",
      "Epoch 73/100\n",
      "2220/2220 [==============================] - 2s 914us/step - loss: 0.0671 - accuracy: 0.9728\n",
      "Epoch 74/100\n",
      "2220/2220 [==============================] - 2s 930us/step - loss: 0.0662 - accuracy: 0.9733\n",
      "Epoch 75/100\n",
      "2220/2220 [==============================] - 2s 915us/step - loss: 0.0648 - accuracy: 0.9738\n",
      "Epoch 76/100\n",
      "2220/2220 [==============================] - 2s 918us/step - loss: 0.0654 - accuracy: 0.9730\n",
      "Epoch 77/100\n",
      "2220/2220 [==============================] - 2s 907us/step - loss: 0.0628 - accuracy: 0.9743\n",
      "Epoch 78/100\n",
      "2220/2220 [==============================] - 2s 931us/step - loss: 0.0627 - accuracy: 0.9742\n",
      "Epoch 79/100\n",
      "2220/2220 [==============================] - 2s 928us/step - loss: 0.0612 - accuracy: 0.9750\n",
      "Epoch 80/100\n",
      "2220/2220 [==============================] - 2s 1ms/step - loss: 0.0599 - accuracy: 0.9759\n",
      "Epoch 81/100\n",
      "2220/2220 [==============================] - 3s 1ms/step - loss: 0.0602 - accuracy: 0.9753\n",
      "Epoch 82/100\n",
      "2220/2220 [==============================] - 2s 999us/step - loss: 0.0588 - accuracy: 0.9756\n",
      "Epoch 83/100\n",
      "2220/2220 [==============================] - 2s 918us/step - loss: 0.0584 - accuracy: 0.9758\n",
      "Epoch 84/100\n",
      "2220/2220 [==============================] - 2s 924us/step - loss: 0.0579 - accuracy: 0.9762\n",
      "Epoch 85/100\n",
      "2220/2220 [==============================] - 2s 929us/step - loss: 0.0564 - accuracy: 0.9772\n",
      "Epoch 86/100\n",
      "2220/2220 [==============================] - 2s 924us/step - loss: 0.0557 - accuracy: 0.9774\n",
      "Epoch 87/100\n",
      "2220/2220 [==============================] - 2s 914us/step - loss: 0.0551 - accuracy: 0.9772\n",
      "Epoch 88/100\n",
      "2220/2220 [==============================] - 2s 942us/step - loss: 0.0537 - accuracy: 0.9782\n",
      "Epoch 89/100\n",
      "2220/2220 [==============================] - 2s 927us/step - loss: 0.0553 - accuracy: 0.9771\n",
      "Epoch 90/100\n",
      "2220/2220 [==============================] - 2s 929us/step - loss: 0.0535 - accuracy: 0.9780\n",
      "Epoch 91/100\n",
      "2220/2220 [==============================] - 2s 935us/step - loss: 0.0510 - accuracy: 0.9795\n",
      "Epoch 92/100\n",
      "2220/2220 [==============================] - 2s 956us/step - loss: 0.0520 - accuracy: 0.9787\n",
      "Epoch 93/100\n",
      "2220/2220 [==============================] - 2s 1ms/step - loss: 0.0515 - accuracy: 0.9793\n",
      "Epoch 94/100\n",
      "2220/2220 [==============================] - 2s 943us/step - loss: 0.0519 - accuracy: 0.9786\n",
      "Epoch 95/100\n",
      "2220/2220 [==============================] - 2s 944us/step - loss: 0.0507 - accuracy: 0.9795\n",
      "Epoch 96/100\n",
      "2220/2220 [==============================] - 2s 919us/step - loss: 0.0496 - accuracy: 0.9792\n",
      "Epoch 97/100\n",
      "2220/2220 [==============================] - 2s 924us/step - loss: 0.0493 - accuracy: 0.9802\n",
      "Epoch 98/100\n",
      "2220/2220 [==============================] - 2s 936us/step - loss: 0.0482 - accuracy: 0.9804\n",
      "Epoch 99/100\n",
      "2220/2220 [==============================] - 2s 934us/step - loss: 0.0490 - accuracy: 0.9797\n",
      "Epoch 100/100\n",
      "2220/2220 [==============================] - 2s 922us/step - loss: 0.0466 - accuracy: 0.9804\n"
     ]
    }
   ],
   "source": [
    "Letter_recognition=model.fit(\n",
    "    X_train_img,y_train,\n",
    "    epochs=100\n",
    ")"
   ]
  },
  {
   "cell_type": "markdown",
   "id": "d0ea0f09",
   "metadata": {},
   "source": [
    "# make prediction"
   ]
  },
  {
   "cell_type": "code",
   "execution_count": 27,
   "id": "752f2ece",
   "metadata": {},
   "outputs": [
    {
     "name": "stdout",
     "output_type": "stream",
     "text": [
      "555/555 [==============================] - 0s 685us/step\n"
     ]
    }
   ],
   "source": [
    "prediction_model=model.predict(X_test_img)"
   ]
  },
  {
   "cell_type": "code",
   "execution_count": 28,
   "id": "3999399f",
   "metadata": {},
   "outputs": [
    {
     "data": {
      "text/plain": [
       "array([[ -31.794495 ,  -25.60441  ,  -44.376377 ,  -46.437378 ,\n",
       "          -7.5898824,    7.123374 ,  -26.278435 ,  -19.728567 ,\n",
       "          -6.455234 ,  -17.18562  ,   -3.5534697,  -19.348867 ,\n",
       "         -58.52816  ,  -56.81618  ,  -47.16036  ,   -9.470263 ,\n",
       "         -14.7424345,  -20.836134 ,  -31.54534  ,   -0.4270723,\n",
       "         -63.586636 ,  -39.33446  ,  -62.027737 ,  -38.240467 ,\n",
       "           5.818669 ,  -17.979828 ],\n",
       "       [  -6.424192 ,  -32.203125 ,  -63.61265  ,  -57.16297  ,\n",
       "         -12.057775 ,   47.069046 ,  -32.867115 ,  -55.96651  ,\n",
       "         -17.510925 ,  -39.674873 ,  -38.523983 ,  -40.843758 ,\n",
       "        -104.42983  ,  -94.908554 ,  -70.529236 ,  -20.775862 ,\n",
       "         -16.530409 ,  -28.060013 ,  -36.061596 ,  -23.761    ,\n",
       "        -128.4683   , -130.4208   ,  -88.60557  ,  -77.082985 ,\n",
       "         -82.413284 ,  -63.7414   ],\n",
       "       [ -36.47353  ,  -31.217728 ,  -61.65085  ,  -47.336315 ,\n",
       "         -61.893368 ,  -84.35785  ,  -17.175709 ,  -12.331809 ,\n",
       "         -81.47993  ,  -62.02624  ,  -14.911338 ,  -51.706318 ,\n",
       "          17.117552 ,   -2.6368475,  -62.569645 ,  -50.31255  ,\n",
       "         -30.432747 ,  -52.92856  ,  -96.11091  ,  -88.95703  ,\n",
       "         -17.276125 ,  -41.07097  ,  -17.695427 ,  -59.731907 ,\n",
       "          -5.444737 ,  -65.407616 ],\n",
       "       [ -32.55577  ,  -27.225937 ,  -54.065525 ,  -14.922711 ,\n",
       "         -31.802814 ,  -23.119078 ,  -48.81032  ,  -40.082207 ,\n",
       "          11.899193 ,  -21.754988 ,  -37.80931  ,  -15.4430275,\n",
       "        -111.330734 ,  -61.69193  ,  -78.30654  ,  -36.64788  ,\n",
       "         -66.07302  ,  -46.3844   ,  -41.89478  ,  -20.025951 ,\n",
       "         -61.667442 ,  -87.24343  ,  -57.4377   ,  -31.91192  ,\n",
       "         -32.274876 ,  -24.733805 ],\n",
       "       [ -25.445847 ,  -30.468956 ,   13.337446 ,  -13.268999 ,\n",
       "          -4.251386 ,  -42.054386 ,   -8.562502 ,  -71.86534  ,\n",
       "         -35.91741  ,  -63.89918  ,  -54.348747 ,  -45.088448 ,\n",
       "         -60.03464  ,  -38.75902  ,   -9.2523575,   -5.0670104,\n",
       "         -18.882587 ,  -28.561848 ,  -56.49706  ,  -53.565613 ,\n",
       "         -64.477486 ,  -46.902267 ,  -60.74339  ,  -78.66147  ,\n",
       "         -42.91337  ,  -38.65408  ],\n",
       "       [ -49.473278 ,  -11.671924 ,  -52.706184 ,  -41.875267 ,\n",
       "         -35.49488  ,  -29.28792  ,  -19.055075 ,   -5.2427616,\n",
       "         -25.925488 ,  -20.693146 ,   13.589897 ,  -24.830767 ,\n",
       "         -42.414658 ,  -42.897938 ,  -73.91003  ,  -56.21722  ,\n",
       "         -23.367186 ,  -12.436175 ,  -39.992256 ,  -20.09317  ,\n",
       "         -12.40234  ,  -39.818756 ,  -21.457575 ,    2.0396473,\n",
       "         -21.525335 ,  -51.800556 ],\n",
       "       [ -30.905212 ,  -35.36551  ,  -14.429284 ,  -10.489701 ,\n",
       "         -15.700853 ,  -48.91824  ,  -26.540144 ,  -25.622602 ,\n",
       "         -15.770988 ,  -39.247562 ,  -35.613842 ,   -5.59653  ,\n",
       "         -42.77924  ,  -19.571669 ,  -12.772984 ,  -14.256962 ,\n",
       "         -27.729147 ,  -34.12347  ,  -55.00508  ,  -55.343403 ,\n",
       "          15.365333 ,    0.7568308,   -9.131868 ,  -47.002182 ,\n",
       "         -17.178278 ,  -23.01667  ],\n",
       "       [   4.434201 ,  -21.221258 ,  -50.22543  ,  -29.971922 ,\n",
       "         -40.847023 ,  -17.138773 ,  -51.096317 ,   30.361126 ,\n",
       "         -51.503094 ,  -43.806004 ,  -14.656568 ,  -31.100115 ,\n",
       "         -28.621378 ,  -21.693535 ,  -56.8106   ,  -28.791248 ,\n",
       "         -41.684025 ,  -23.34569  ,  -61.804783 ,  -19.278723 ,\n",
       "         -29.233976 ,  -46.495064 ,  -52.3286   ,  -45.793762 ,\n",
       "         -22.97977  ,  -58.19468  ],\n",
       "       [ -26.72465  ,  -24.427048 ,  -26.965794 ,  -18.91625  ,\n",
       "         -36.725433 ,  -25.212122 ,  -22.55805  ,  -14.182516 ,\n",
       "           6.897012 ,   -7.267057 ,  -26.545393 ,    8.980098 ,\n",
       "         -58.016354 ,  -38.5326   ,  -26.164154 ,  -10.023613 ,\n",
       "         -24.987297 ,  -13.695789 ,  -23.356552 ,  -32.980217 ,\n",
       "         -14.905291 ,  -18.989391 ,   -4.419142 ,  -23.172396 ,\n",
       "         -14.4430065,  -38.914722 ],\n",
       "       [ -19.06168  ,   -7.644276 ,  -61.38885  ,  -23.009893 ,\n",
       "         -32.651093 ,  -27.081903 ,    4.760339 ,  -84.47291  ,\n",
       "         -40.692432 ,  -17.116306 ,  -60.18797  ,  -63.550076 ,\n",
       "         -59.27435  ,  -65.74817  ,  -18.86529  ,  -33.200718 ,\n",
       "         -25.397203 ,  -44.693977 ,   26.380379 ,  -51.489483 ,\n",
       "         -77.42909  ,  -69.65572  ,  -23.8382   ,  -40.689327 ,\n",
       "         -36.892258 ,   -5.5881095]], dtype=float32)"
      ]
     },
     "execution_count": 28,
     "metadata": {},
     "output_type": "execute_result"
    }
   ],
   "source": [
    "prediction_model[:10]"
   ]
  },
  {
   "cell_type": "code",
   "execution_count": 29,
   "id": "cd9e8b68",
   "metadata": {},
   "outputs": [
    {
     "data": {
      "text/plain": [
       "<tf.Tensor: shape=(17760, 26), dtype=float32, numpy=\n",
       "array([[9.85744022e-18, 4.80932898e-15, 3.38471437e-23, ...,\n",
       "        1.56427803e-20, 2.13281825e-01, 9.84912499e-12],\n",
       "       [5.86384647e-24, 3.73709083e-35, 0.00000000e+00, ...,\n",
       "        0.00000000e+00, 0.00000000e+00, 0.00000000e+00],\n",
       "       [5.31728380e-24, 1.01918739e-21, 6.18468732e-35, ...,\n",
       "        4.21410179e-34, 1.58972779e-10, 1.44468921e-36],\n",
       "       ...,\n",
       "       [2.36036094e-22, 5.18009577e-33, 0.00000000e+00, ...,\n",
       "        9.24064823e-26, 1.02203192e-24, 1.41911607e-20],\n",
       "       [4.51755682e-07, 2.21506737e-11, 7.71423452e-13, ...,\n",
       "        1.08147735e-14, 1.70083453e-07, 2.63210180e-20],\n",
       "       [3.90715927e-15, 6.69794109e-16, 1.39844011e-20, ...,\n",
       "        2.09892837e-15, 8.58539195e-09, 3.51525958e-14]], dtype=float32)>"
      ]
     },
     "execution_count": 29,
     "metadata": {},
     "output_type": "execute_result"
    }
   ],
   "source": [
    "prediction_p=tf.nn.softmax(prediction_model)\n",
    "prediction_p"
   ]
  },
  {
   "cell_type": "markdown",
   "id": "e411638e",
   "metadata": {},
   "source": [
    "# accuracy"
   ]
  },
  {
   "cell_type": "code",
   "execution_count": 30,
   "id": "d02f592d",
   "metadata": {},
   "outputs": [
    {
     "name": "stdout",
     "output_type": "stream",
     "text": [
      "555/555 [==============================] - 1s 857us/step - loss: 0.8629 - accuracy: 0.8776\n"
     ]
    }
   ],
   "source": [
    "loss,accurecy=model.evaluate(X_test_img,y_test)"
   ]
  },
  {
   "cell_type": "code",
   "execution_count": 31,
   "id": "29e30db2",
   "metadata": {},
   "outputs": [
    {
     "data": {
      "text/plain": [
       "0.8776463866233826"
      ]
     },
     "execution_count": 31,
     "metadata": {},
     "output_type": "execute_result"
    }
   ],
   "source": [
    "accurecy"
   ]
  },
  {
   "cell_type": "code",
   "execution_count": null,
   "id": "b3672bd7",
   "metadata": {},
   "outputs": [],
   "source": []
  }
 ],
 "metadata": {
  "kernelspec": {
   "display_name": "Python 3 (ipykernel)",
   "language": "python",
   "name": "python3"
  },
  "language_info": {
   "codemirror_mode": {
    "name": "ipython",
    "version": 3
   },
   "file_extension": ".py",
   "mimetype": "text/x-python",
   "name": "python",
   "nbconvert_exporter": "python",
   "pygments_lexer": "ipython3",
   "version": "3.11.5"
  }
 },
 "nbformat": 4,
 "nbformat_minor": 5
}
